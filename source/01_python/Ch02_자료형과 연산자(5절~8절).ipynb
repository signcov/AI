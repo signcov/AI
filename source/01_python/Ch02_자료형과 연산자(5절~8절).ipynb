{
 "cells": [
  {
   "cell_type": "code",
   "execution_count": 1,
   "id": "a2d94d55",
   "metadata": {},
   "outputs": [
    {
     "data": {
      "text/html": [
       "\n",
       "<style>\n",
       "div.container{width:90% !important;}\n",
       "div.cell.code_cell.rendered{width:100%;}\n",
       "div.input_prompt{padding:0px;}\n",
       "div.CodeMirror {font-family:Consolas; font-size:12pt;}\n",
       "div.text_cell_render.rendered_html{font-size:12pt;}\n",
       "div.output {font-size:12pt; font-weight:bold;}\n",
       "div.input {font-family:Consolas; font-size:12pt;}\n",
       "div.prompt {min-width:70px;}\n",
       "div#toc-wrapper{padding-top:120px;}\n",
       "div.text_cell_render ul li{font-size:12pt;padding:5px;}\n",
       "table.dataframe{font-size:12px;}\n",
       "</style>\n"
      ],
      "text/plain": [
       "<IPython.core.display.HTML object>"
      ]
     },
     "metadata": {},
     "output_type": "display_data"
    }
   ],
   "source": [
    "from IPython.display import display, HTML\n",
    "display(HTML(\"\"\"\n",
    "<style>\n",
    "div.container{width:90% !important;}\n",
    "div.cell.code_cell.rendered{width:100%;}\n",
    "div.input_prompt{padding:0px;}\n",
    "div.CodeMirror {font-family:Consolas; font-size:12pt;}\n",
    "div.text_cell_render.rendered_html{font-size:12pt;}\n",
    "div.output {font-size:12pt; font-weight:bold;}\n",
    "div.input {font-family:Consolas; font-size:12pt;}\n",
    "div.prompt {min-width:70px;}\n",
    "div#toc-wrapper{padding-top:120px;}\n",
    "div.text_cell_render ul li{font-size:12pt;padding:5px;}\n",
    "table.dataframe{font-size:12px;}\n",
    "</style>\n",
    "\"\"\"))\n"
   ]
  },
  {
   "cell_type": "markdown",
   "id": "93c3240b",
   "metadata": {},
   "source": [
    "# 52절. 연산자.\n",
    "## 5.1 산술연산자 : + -,*, /(결과 float), //몫, %(나머지), **(제곱)"
   ]
  },
  {
   "cell_type": "code",
   "execution_count": 8,
   "id": "dfe0407c",
   "metadata": {},
   "outputs": [
    {
     "name": "stdout",
     "output_type": "stream",
     "text": [
      "10*5승= 100000\n",
      "4/2(결과 실수) = 2.5\n",
      "5//2(몫)= 2.5\n",
      "5%2(나머지) = 1\n"
     ]
    }
   ],
   "source": [
    "print(\"10*5승=\", 10**5)\n",
    "print(\"4/2(결과 실수) =\", 5/2)\n",
    "print(\"5//2(몫)=\", 5/2)\n",
    "print(\"5%2(나머지) =\", 5%2)"
   ]
  },
  {
   "cell_type": "code",
   "execution_count": 5,
   "id": "10431efd",
   "metadata": {},
   "outputs": [
    {
     "name": "stdout",
     "output_type": "stream",
     "text": [
      "4**2 = 16\n"
     ]
    }
   ],
   "source": [
    "print(\"4**2 =\", 4**2)"
   ]
  },
  {
   "cell_type": "code",
   "execution_count": 7,
   "id": "74143908",
   "metadata": {},
   "outputs": [
    {
     "name": "stdout",
     "output_type": "stream",
     "text": [
      "4**2 = 16.0\n"
     ]
    }
   ],
   "source": [
    "# 정수끼리 연산은 결과가 정수(단/제외)\n",
    "# 정수와 실수, 실수끼리 연산 결과는 실수\n",
    "print(\"4**2 =\", 4**2.0)"
   ]
  },
  {
   "cell_type": "code",
   "execution_count": 10,
   "id": "8e4c421a",
   "metadata": {},
   "outputs": [
    {
     "name": "stdout",
     "output_type": "stream",
     "text": [
      "정수를 입력하세요:8\n",
      "입력하신 수는 8, 2로 나눈 나머지는 0라서 짝수를 입력하셨습니다\n"
     ]
    }
   ],
   "source": [
    "# quiz1, 정수를 입력받아 짝수인지 홀수인지 여부를 출려하는 프로그램을 짜보자\n",
    "num = int(input(\"정수를 입력하세요:\"))\n",
    "result = num % 2 # -1, 0, 1 이 세 개 말고는 절대 올 수 없음\n",
    "if result : \n",
    "    temp = \"홀수\"\n",
    "else:\n",
    "    temp = \"짝수\"\n",
    "print(f\"입력하신 수는 {num}, 2로 나눈 나머지는 {result}라서 {temp}를 입력하셨습니다\")"
   ]
  },
  {
   "cell_type": "code",
   "execution_count": 12,
   "id": "0b458c1a",
   "metadata": {},
   "outputs": [
    {
     "ename": "SyntaxError",
     "evalue": "unterminated string literal (detected at line 9) (444354249.py, line 9)",
     "output_type": "error",
     "traceback": [
      "\u001b[1;36m  Cell \u001b[1;32mIn[12], line 9\u001b[1;36m\u001b[0m\n\u001b[1;33m    print(f\"입력하신 수는 {num}, 5로 나눈 나머지는 {0}이라서 {temp}를 입력하셨습니다)\u001b[0m\n\u001b[1;37m          ^\u001b[0m\n\u001b[1;31mSyntaxError\u001b[0m\u001b[1;31m:\u001b[0m unterminated string literal (detected at line 9)\n"
     ]
    }
   ],
   "source": [
    "# quiz2, 정수를 입력받아 5의 배수인지 여부를 출력하라\n",
    "\n",
    "num = int(input(\"정수를 입력하세요:\"))\n",
    "result = num/5\n",
    "if result :\n",
    "    temp = \"5의 배수\"\n",
    "else: \n",
    "    temp = \"5의 배수가 아닌 수\"\n",
    "print(f\"입력하신 수는 {num}, 5로 나눈 나머지는 {0}이라서 {temp}를 입력하셨습니다)"
   ]
  },
  {
   "cell_type": "code",
   "execution_count": null,
   "id": "495fe3c1",
   "metadata": {},
   "outputs": [],
   "source": [
    "# quiz3, 국어 영어 수학 점수를 입력받아 다음 셀에서 다음과 같이 출력하도록 구현하시오\n",
    "# 국어 :  99      영어 : 100       수학 : 100\n",
    "# 합계 : 299      평균 :  99.7\n",
    "\n",
    "\n"
   ]
  },
  {
   "cell_type": "code",
   "execution_count": null,
   "id": "585773aa",
   "metadata": {},
   "outputs": [],
   "source": [
    "# 내가 풀어보기 quiz2, 정수를 입력받아 5의 배수인지 여부를 출력하라\n",
    "\n",
    "num = int(input(\"정수를 입력하세요:\"))\n",
    "result = \n",
    "if num :\n",
    "    temp = \"5의 배수\"\n",
    "else: \n",
    "    temp = \"5의 배수가 아닌 수\"\n",
    "print(f\"입력하신 수는 {num}, 5로 나눈 나머지는 {0}이라서 {temp}를 입력하셨습니다)"
   ]
  },
  {
   "cell_type": "code",
   "execution_count": null,
   "id": "fda7c92c",
   "metadata": {},
   "outputs": [],
   "source": []
  },
  {
   "cell_type": "markdown",
   "id": "c13319f5",
   "metadata": {},
   "source": [
    "## 5.2 할당연산자 : =, =+, -=, /=, *=, //=, %=\n",
    "\n",
    "같다 아니다. a = 10은 a에다가 10을 넣는다는 뜻\n",
    "할당연산자가 = 만 있는 것이 아니라 =, =+, -=, /=, *=, //=, %=\n",
    "\n"
   ]
  },
  {
   "cell_type": "code",
   "execution_count": 13,
   "id": "901842d9",
   "metadata": {},
   "outputs": [
    {
     "name": "stdout",
     "output_type": "stream",
     "text": [
      "a=15\n"
     ]
    }
   ],
   "source": [
    "a = 10\n",
    "a += 5 #a=a+5와 동일\n",
    "print(f\"a={a}\")"
   ]
  },
  {
   "cell_type": "code",
   "execution_count": 14,
   "id": "dd8fc184",
   "metadata": {},
   "outputs": [
    {
     "name": "stdout",
     "output_type": "stream",
     "text": [
      "5빼기 : 10\n",
      "10배 : 100\n",
      "5나눈 몫  20\n"
     ]
    }
   ],
   "source": [
    "a -= 5 #a=a-5와 동일\n",
    "print(\"5빼기 :\", a) #10\n",
    "a *= 10 #a=a*10\n",
    "print(\"10배 :\", a) #100\n",
    "a //= 5 #a=a//5\n",
    "print(\"5나눈 몫 \", a)"
   ]
  },
  {
   "cell_type": "markdown",
   "id": "f8282989",
   "metadata": {},
   "source": [
    "## 5.3 논리연산자 : &, and, |, or, not \n",
    "- 고등학교 때 한겁니다.\n",
    "- 왜 앤드랑 오어가 두개 씩 있을까요. It's like e.g. 서울시에 목동이면서 학원인 것을 and랑 or를 씀."
   ]
  },
  {
   "cell_type": "code",
   "execution_count": 17,
   "id": "2717e339",
   "metadata": {},
   "outputs": [
    {
     "name": "stdout",
     "output_type": "stream",
     "text": [
      "True\n",
      "0\n",
      "1100\n"
     ]
    }
   ],
   "source": [
    "# & : 논리연산자, 비트연산자\n",
    "print((10>3) & (10>5)) # 논리연산 True & True\n",
    "print(12 & 1) # 비트 연산  1 1 1 0 (12)\n",
    "                    #    0 0 0 1 (1)\n",
    "                       \n",
    "    \n",
    "print(\"{:4b}\".format(12))"
   ]
  },
  {
   "cell_type": "code",
   "execution_count": 21,
   "id": "849681b1",
   "metadata": {},
   "outputs": [
    {
     "name": "stdout",
     "output_type": "stream",
     "text": [
      "True\n",
      "0\n"
     ]
    }
   ],
   "source": [
    "# and : 논리연산자. False 로 판별되는 첫번째 항의 결과 반환\n",
    "            # 모든 항이 True면, 마지막항의 결과 반환\n",
    "print((10>3) and (10>5))\n",
    "print( 0 and 1)\n"
   ]
  },
  {
   "cell_type": "code",
   "execution_count": 24,
   "id": "a4d88582",
   "metadata": {},
   "outputs": [
    {
     "name": "stdout",
     "output_type": "stream",
     "text": [
      "논리연산(연산자 안뒤에 논리형일 때): True\n",
      "비트연산(연산자 앞이나 뒤에 숫자일 때): 3\n"
     ]
    }
   ],
   "source": [
    "# |: 논리연산, 비트연산\n",
    "result = False | True  \n",
    "print('논리연산(연산자 안뒤에 논리형일 때):', result)\n",
    "result = False | 3 # 0000 (0)\n",
    "                   # 0011 (3)\n",
    "print('비트연산(연산자 앞이나 뒤에 숫자일 때):', result)"
   ]
  },
  {
   "cell_type": "code",
   "execution_count": 25,
   "id": "d1a4cc74",
   "metadata": {},
   "outputs": [
    {
     "name": "stdout",
     "output_type": "stream",
     "text": [
      "[]\n",
      "Hong\n"
     ]
    }
   ],
   "source": [
    "# or : 논리연산\n",
    "print(False or 0 or '' or None or [])\n",
    "print(False or 0 or 'Hong' or None or [])"
   ]
  },
  {
   "cell_type": "code",
   "execution_count": 26,
   "id": "36a686ea",
   "metadata": {},
   "outputs": [
    {
     "data": {
      "text/plain": [
       "False"
      ]
     },
     "execution_count": 26,
     "metadata": {},
     "output_type": "execute_result"
    }
   ],
   "source": [
    "not 10>5"
   ]
  },
  {
   "cell_type": "markdown",
   "id": "8dfc2318",
   "metadata": {},
   "source": [
    "## 5.4 비교연산자 : >, >=, <, <=, ==(같다), !=(다르다)"
   ]
  },
  {
   "cell_type": "code",
   "execution_count": 30,
   "id": "c8a2b724",
   "metadata": {},
   "outputs": [
    {
     "name": "stdout",
     "output_type": "stream",
     "text": [
      "True\n",
      "True\n",
      "True\n"
     ]
    }
   ],
   "source": [
    "# 비교연산자는 이항, 삼항, 사항,... 다항연산자. 상관없음\n",
    "x = 95\n",
    "print( (90<=x) & (x<=100))\n",
    "print(90 <+ x <= 100)\n",
    "print(90 <= x <= 100 > 10)\n"
   ]
  },
  {
   "cell_type": "code",
   "execution_count": 32,
   "id": "96e33935",
   "metadata": {},
   "outputs": [
    {
     "name": "stdout",
     "output_type": "stream",
     "text": [
      "True\n",
      "False\n",
      "False\n"
     ]
    }
   ],
   "source": [
    "# 비교연산자의 우선순위가 비트연산자 (|,&)의 우선순위보다 낮다\n",
    "print((10>5) & (10>7))\n",
    "print( 10>5 & 10>7) #괄호가 없으면 우선순위가 높은 5&10부터 실행\n",
    "print( 10> 0> 7)\n",
    "#0101 & 1010(10)"
   ]
  },
  {
   "cell_type": "code",
   "execution_count": 35,
   "id": "85e9ad84",
   "metadata": {},
   "outputs": [
    {
     "name": "stdout",
     "output_type": "stream",
     "text": [
      "True\n",
      "True\n"
     ]
    }
   ],
   "source": [
    "address = \"목동\"\n",
    "age = 29\n",
    "# print(address==\"목동\" & age<=30)\n",
    "print((address==\"목동\") & (age<=30))\n",
    "#근데 괄호하기 싫다면 \n",
    "print(address==\"목동\" and age<=30)"
   ]
  },
  {
   "cell_type": "code",
   "execution_count": 37,
   "id": "0c272d0e",
   "metadata": {},
   "outputs": [
    {
     "data": {
      "text/plain": [
       "True"
      ]
     },
     "execution_count": 37,
     "metadata": {},
     "output_type": "execute_result"
    }
   ],
   "source": [
    "# 문자는 abcd순, 즉 ASCII코드 순으로 비교 :\n",
    "# A는 65, B는 66로 저장됨. 소문자는 또 다름. 그래서 A가 B보다 작음. 그래서 문자들이 비교됨. \n",
    "# 특수문자 < 숫자문자 < 대문자 < 소문자(abc순)\n",
    "\"scott\" < \"tiger\""
   ]
  },
  {
   "cell_type": "code",
   "execution_count": 39,
   "id": "3b7c31af",
   "metadata": {},
   "outputs": [
    {
     "data": {
      "text/plain": [
       "True"
      ]
     },
     "execution_count": 39,
     "metadata": {},
     "output_type": "execute_result"
    }
   ],
   "source": [
    "\"김길동\" < \"홍길동\" "
   ]
  },
  {
   "cell_type": "markdown",
   "id": "0ed69552",
   "metadata": {},
   "source": [
    "## 5.5 비트연산 : &, |, ^(XOR), ~(반대)\n",
    "- AI의 겨울을 맞이한 게 XOR때문이었다."
   ]
  },
  {
   "cell_type": "code",
   "execution_count": null,
   "id": "2a37ceba",
   "metadata": {},
   "outputs": [],
   "source": []
  },
  {
   "cell_type": "code",
   "execution_count": null,
   "id": "e870a470",
   "metadata": {},
   "outputs": [],
   "source": [
    "2절 화면 i/o\n",
    "\n",
    "\n",
    "4절 포맷팅\n",
    "\t\"{[인덱스]}-:[공백대체문자][정렬방식][자릿수][타입]}\".format(변수명)\n",
    "    \n",
    "5절 연산자\n",
    "    산술연산자: +, -, *, /(연산결과 실수),//(몫), %(나머지), **(제곱)\n",
    "    할당연산자: =, =+, -=, /=, *=, //=, %=\n",
    "    논리연산자: and, or not,\n",
    "              &, | (연산자 앞뒤에 논리값이 올 경우만)\n",
    "    비교연산자:  >, >=, <, <=, ==(같다), !=(다르다) (연산자 우선순위를 고려하여 다른 연산자와 사용)\n",
    "    비트연산자: &, |, ^(XOR), ~(반대)"
   ]
  },
  {
   "cell_type": "code",
   "execution_count": null,
   "id": "7db732e5",
   "metadata": {},
   "outputs": [],
   "source": []
  }
 ],
 "metadata": {
  "kernelspec": {
   "display_name": "Python 3 (ipykernel)",
   "language": "python",
   "name": "python3"
  },
  "language_info": {
   "codemirror_mode": {
    "name": "ipython",
    "version": 3
   },
   "file_extension": ".py",
   "mimetype": "text/x-python",
   "name": "python",
   "nbconvert_exporter": "python",
   "pygments_lexer": "ipython3",
   "version": "3.10.9"
  },
  "toc": {
   "base_numbering": 1,
   "nav_menu": {},
   "number_sections": false,
   "sideBar": true,
   "skip_h1_title": false,
   "title_cell": "Table of Contents",
   "title_sidebar": "Contents",
   "toc_cell": false,
   "toc_position": {},
   "toc_section_display": true,
   "toc_window_display": false
  }
 },
 "nbformat": 4,
 "nbformat_minor": 5
}

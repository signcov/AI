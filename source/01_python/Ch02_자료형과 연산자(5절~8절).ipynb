{
 "cells": [
  {
   "cell_type": "code",
   "execution_count": 1,
   "id": "48309019",
   "metadata": {},
   "outputs": [
    {
     "data": {
      "text/html": [
       "\n",
       "<style>\n",
       "div.container{width:90% !important;}\n",
       "div.cell.code_cell.rendered{width:100%;}\n",
       "div.input_prompt{padding:0px;}\n",
       "div.CodeMirror {font-family:Consolas; font-size:12pt;}\n",
       "div.text_cell_render.rendered_html{font-size:12pt;}\n",
       "div.output {font-size:12pt; font-weight:bold;}\n",
       "div.input {font-family:Consolas; font-size:12pt;}\n",
       "div.prompt {min-width:70px;}\n",
       "div#toc-wrapper{padding-top:120px;}\n",
       "div.text_cell_render ul li{font-size:12pt;padding:5px;}\n",
       "table.dataframe{font-size:12px;}\n",
       "</style>\n"
      ],
      "text/plain": [
       "<IPython.core.display.HTML object>"
      ]
     },
     "metadata": {},
     "output_type": "display_data"
    }
   ],
   "source": [
    "from IPython.display import display, HTML\n",
    "display(HTML(\"\"\"\n",
    "<style>\n",
    "div.container{width:90% !important;}\n",
    "div.cell.code_cell.rendered{width:100%;}\n",
    "div.input_prompt{padding:0px;}\n",
    "div.CodeMirror {font-family:Consolas; font-size:12pt;}\n",
    "div.text_cell_render.rendered_html{font-size:12pt;}\n",
    "div.output {font-size:12pt; font-weight:bold;}\n",
    "div.input {font-family:Consolas; font-size:12pt;}\n",
    "div.prompt {min-width:70px;}\n",
    "div#toc-wrapper{padding-top:120px;}\n",
    "div.text_cell_render ul li{font-size:12pt;padding:5px;}\n",
    "table.dataframe{font-size:12px;}\n",
    "</style>\n",
    "\"\"\"))\n"
   ]
  },
  {
   "cell_type": "markdown",
   "id": "d89f5f75",
   "metadata": {},
   "source": [
    "# 52절. 연산자.\n",
    "## 5.1 산술연산자 : + -,*, /(결과 float), //몫, %(나머지), **(제곱)"
   ]
  },
  {
   "cell_type": "code",
   "execution_count": 8,
   "id": "136ca057",
   "metadata": {},
   "outputs": [
    {
     "name": "stdout",
     "output_type": "stream",
     "text": [
      "10*5승= 100000\n",
      "4/2(결과 실수) = 2.5\n",
      "5//2(몫)= 2.5\n",
      "5%2(나머지) = 1\n"
     ]
    }
   ],
   "source": [
    "print(\"10*5승=\", 10**5)\n",
    "print(\"4/2(결과 실수) =\", 5/2)\n",
    "print(\"5//2(몫)=\", 5/2)\n",
    "print(\"5%2(나머지) =\", 5%2)"
   ]
  },
  {
   "cell_type": "code",
   "execution_count": 5,
   "id": "ba40c6d2",
   "metadata": {},
   "outputs": [
    {
     "name": "stdout",
     "output_type": "stream",
     "text": [
      "4**2 = 16\n"
     ]
    }
   ],
   "source": [
    "print(\"4**2 =\", 4**2)"
   ]
  },
  {
   "cell_type": "code",
   "execution_count": 7,
   "id": "6461d847",
   "metadata": {},
   "outputs": [
    {
     "name": "stdout",
     "output_type": "stream",
     "text": [
      "4**2 = 16.0\n"
     ]
    }
   ],
   "source": [
    "# 정수끼리 연산은 결과가 정수(단/제외)\n",
    "# 정수와 실수, 실수끼리 연산 결과는 실수\n",
    "print(\"4**2 =\", 4**2.0)"
   ]
  },
  {
   "cell_type": "code",
   "execution_count": 10,
   "id": "d75cc5a6",
   "metadata": {},
   "outputs": [
    {
     "name": "stdout",
     "output_type": "stream",
     "text": [
      "정수를 입력하세요:8\n",
      "입력하신 수는 8, 2로 나눈 나머지는 0라서 짝수를 입력하셨습니다\n"
     ]
    }
   ],
   "source": [
    "# quiz1, 정수를 입력받아 짝수인지 홀수인지 여부를 출려하는 프로그램을 짜보자\n",
    "num = int(input(\"정수를 입력하세요:\"))\n",
    "result = num % 2 # -1, 0, 1 이 세 개 말고는 절대 올 수 없음\n",
    "if result : \n",
    "    temp = \"홀수\"\n",
    "else:\n",
    "    temp = \"짝수\"\n",
    "print(f\"입력하신 수는 {num}, 2로 나눈 나머지는 {result}라서 {temp}를 입력하셨습니다\")"
   ]
  },
  {
   "cell_type": "code",
   "execution_count": 12,
   "id": "85584ab3",
   "metadata": {},
   "outputs": [
    {
     "ename": "SyntaxError",
     "evalue": "unterminated string literal (detected at line 9) (444354249.py, line 9)",
     "output_type": "error",
     "traceback": [
      "\u001b[1;36m  Cell \u001b[1;32mIn[12], line 9\u001b[1;36m\u001b[0m\n\u001b[1;33m    print(f\"입력하신 수는 {num}, 5로 나눈 나머지는 {0}이라서 {temp}를 입력하셨습니다)\u001b[0m\n\u001b[1;37m          ^\u001b[0m\n\u001b[1;31mSyntaxError\u001b[0m\u001b[1;31m:\u001b[0m unterminated string literal (detected at line 9)\n"
     ]
    }
   ],
   "source": [
    "# quiz2, 정수를 입력받아 5의 배수인지 여부를 출력하라\n",
    "\n",
    "num = int(input(\"정수를 입력하세요:\"))\n",
    "result = num/5\n",
    "if result :\n",
    "    temp = \"5의 배수\"\n",
    "else: \n",
    "    temp = \"5의 배수가 아닌 수\"\n",
    "print(f\"입력하신 수는 {num}, 5로 나눈 나머지는 {0}이라서 {temp}를 입력하셨습니다)"
   ]
  },
  {
   "cell_type": "code",
   "execution_count": null,
   "id": "6231fea7",
   "metadata": {},
   "outputs": [],
   "source": [
    "# quiz3, 국어 영어 수학 점수를 입력받아 다음 셀에서 다음과 같이 출력하도록 구현하시오\n",
    "# 국어 :  99      영어 : 100       수학 : 100\n",
    "# 합계 : 299      평균 :  99.7\n",
    "\n",
    "\n"
   ]
  },
  {
   "cell_type": "code",
   "execution_count": null,
   "id": "a405b981",
   "metadata": {},
   "outputs": [],
   "source": [
    "# 내가 풀어보기 quiz2, 정수를 입력받아 5의 배수인지 여부를 출력하라\n",
    "\n",
    "num = int(input(\"정수를 입력하세요:\"))\n",
    "result = \n",
    "if num :\n",
    "    temp = \"5의 배수\"\n",
    "else: \n",
    "    temp = \"5의 배수가 아닌 수\"\n",
    "print(f\"입력하신 수는 {num}, 5로 나눈 나머지는 {0}이라서 {temp}를 입력하셨습니다)"
   ]
  },
  {
   "cell_type": "code",
   "execution_count": null,
   "id": "8159194c",
   "metadata": {},
   "outputs": [],
   "source": []
  },
  {
   "cell_type": "markdown",
   "id": "3cf67af8",
   "metadata": {},
   "source": [
    "## 5.2 할당연산자 : =, =+, -=, /=, *=, //=, %=\n",
    "\n",
    "같다 아니다. a = 10은 a에다가 10을 넣는다는 뜻\n",
    "할당연산자가 = 만 있는 것이 아니라 =, =+, -=, /=, *=, //=, %=\n",
    "\n"
   ]
  },
  {
   "cell_type": "code",
   "execution_count": 13,
   "id": "50c00ba3",
   "metadata": {},
   "outputs": [
    {
     "name": "stdout",
     "output_type": "stream",
     "text": [
      "a=15\n"
     ]
    }
   ],
   "source": [
    "a = 10\n",
    "a += 5 #a=a+5와 동일\n",
    "print(f\"a={a}\")"
   ]
  },
  {
   "cell_type": "code",
   "execution_count": 14,
   "id": "2c56daaa",
   "metadata": {},
   "outputs": [
    {
     "name": "stdout",
     "output_type": "stream",
     "text": [
      "5빼기 : 10\n",
      "10배 : 100\n",
      "5나눈 몫  20\n"
     ]
    }
   ],
   "source": [
    "a -= 5 #a=a-5와 동일\n",
    "print(\"5빼기 :\", a) #10\n",
    "a *= 10 #a=a*10\n",
    "print(\"10배 :\", a) #100\n",
    "a //= 5 #a=a//5\n",
    "print(\"5나눈 몫 \", a)"
   ]
  },
  {
   "cell_type": "markdown",
   "id": "fc16862e",
   "metadata": {},
   "source": [
    "## 5.3 논리연산자 : &, and, |, or, not \n",
    "- 고등학교 때 한겁니다.\n",
    "- 왜 앤드랑 오어가 두개 씩 있을까요. It's like e.g. 서울시에 목동이면서 학원인 것을 and랑 or를 씀."
   ]
  },
  {
   "cell_type": "code",
   "execution_count": 17,
   "id": "a47a5a76",
   "metadata": {},
   "outputs": [
    {
     "name": "stdout",
     "output_type": "stream",
     "text": [
      "True\n",
      "0\n",
      "1100\n"
     ]
    }
   ],
   "source": [
    "# & : 논리연산자, 비트연산자\n",
    "print((10>3) & (10>5)) # 논리연산 True & True\n",
    "print(12 & 1) # 비트 연산  1 1 1 0 (12)\n",
    "                    #    0 0 0 1 (1)\n",
    "                       \n",
    "    \n",
    "print(\"{:4b}\".format(12))"
   ]
  },
  {
   "cell_type": "code",
   "execution_count": 21,
   "id": "6b5f1f1d",
   "metadata": {},
   "outputs": [
    {
     "name": "stdout",
     "output_type": "stream",
     "text": [
      "True\n",
      "0\n"
     ]
    }
   ],
   "source": [
    "# and : 논리연산자. False 로 판별되는 첫번째 항의 결과 반환\n",
    "            # 모든 항이 True면, 마지막항의 결과 반환\n",
    "print((10>3) and (10>5))\n",
    "print( 0 and 1)\n"
   ]
  },
  {
   "cell_type": "code",
   "execution_count": 24,
   "id": "16627668",
   "metadata": {},
   "outputs": [
    {
     "name": "stdout",
     "output_type": "stream",
     "text": [
      "논리연산(연산자 안뒤에 논리형일 때): True\n",
      "비트연산(연산자 앞이나 뒤에 숫자일 때): 3\n"
     ]
    }
   ],
   "source": [
    "# |: 논리연산, 비트연산\n",
    "result = False | True  \n",
    "print('논리연산(연산자 안뒤에 논리형일 때):', result)\n",
    "result = False | 3 # 0000 (0)\n",
    "                   # 0011 (3)\n",
    "print('비트연산(연산자 앞이나 뒤에 숫자일 때):', result)"
   ]
  },
  {
   "cell_type": "code",
   "execution_count": 25,
   "id": "adfcc741",
   "metadata": {},
   "outputs": [
    {
     "name": "stdout",
     "output_type": "stream",
     "text": [
      "[]\n",
      "Hong\n"
     ]
    }
   ],
   "source": [
    "# or : 논리연산\n",
    "print(False or 0 or '' or None or [])\n",
    "print(False or 0 or 'Hong' or None or [])"
   ]
  },
  {
   "cell_type": "code",
   "execution_count": 26,
   "id": "ab96508b",
   "metadata": {},
   "outputs": [
    {
     "data": {
      "text/plain": [
       "False"
      ]
     },
     "execution_count": 26,
     "metadata": {},
     "output_type": "execute_result"
    }
   ],
   "source": [
    "not 10>5"
   ]
  },
  {
   "cell_type": "markdown",
   "id": "f2e24711",
   "metadata": {},
   "source": [
    "## 5.4 비교연산자 : >, >=, <, <=, ==(같다), !=(다르다)"
   ]
  },
  {
   "cell_type": "code",
   "execution_count": 30,
   "id": "789c3a36",
   "metadata": {},
   "outputs": [
    {
     "name": "stdout",
     "output_type": "stream",
     "text": [
      "True\n",
      "True\n",
      "True\n"
     ]
    }
   ],
   "source": [
    "# 비교연산자는 이항, 삼항, 사항,... 다항연산자. 상관없음\n",
    "x = 95\n",
    "print( (90<=x) & (x<=100))\n",
    "print(90 <+ x <= 100)\n",
    "print(90 <= x <= 100 > 10)\n"
   ]
  },
  {
   "cell_type": "code",
   "execution_count": 32,
   "id": "1fe4e41e",
   "metadata": {},
   "outputs": [
    {
     "name": "stdout",
     "output_type": "stream",
     "text": [
      "True\n",
      "False\n",
      "False\n"
     ]
    }
   ],
   "source": [
    "# 비교연산자의 우선순위가 비트연산자 (|,&)의 우선순위보다 낮다\n",
    "print((10>5) & (10>7))\n",
    "print( 10>5 & 10>7) #괄호가 없으면 우선순위가 높은 5&10부터 실행\n",
    "print( 10> 0> 7)\n",
    "#0101 & 1010(10)"
   ]
  },
  {
   "cell_type": "code",
   "execution_count": 35,
   "id": "eb467727",
   "metadata": {},
   "outputs": [
    {
     "name": "stdout",
     "output_type": "stream",
     "text": [
      "True\n",
      "True\n"
     ]
    }
   ],
   "source": [
    "address = \"목동\"\n",
    "age = 29\n",
    "# print(address==\"목동\" & age<=30)\n",
    "print((address==\"목동\") & (age<=30))\n",
    "#근데 괄호하기 싫다면 \n",
    "print(address==\"목동\" and age<=30)"
   ]
  },
  {
   "cell_type": "code",
   "execution_count": 37,
   "id": "541c6b06",
   "metadata": {},
   "outputs": [
    {
     "data": {
      "text/plain": [
       "True"
      ]
     },
     "execution_count": 37,
     "metadata": {},
     "output_type": "execute_result"
    }
   ],
   "source": [
    "# 문자는 abcd순, 즉 ASCII코드 순으로 비교 :\n",
    "# A는 65, B는 66로 저장됨. 소문자는 또 다름. 그래서 A가 B보다 작음. 그래서 문자들이 비교됨. \n",
    "# 특수문자 < 숫자문자 < 대문자 < 소문자(abc순)\n",
    "\"scott\" < \"tiger\""
   ]
  },
  {
   "cell_type": "code",
   "execution_count": 39,
   "id": "8b88025c",
   "metadata": {},
   "outputs": [
    {
     "data": {
      "text/plain": [
       "True"
      ]
     },
     "execution_count": 39,
     "metadata": {},
     "output_type": "execute_result"
    }
   ],
   "source": [
    "\"김길동\" < \"홍길동\" "
   ]
  },
  {
   "cell_type": "markdown",
   "id": "49b0a573",
   "metadata": {},
   "source": [
    "## 5.5 비트연산 : &, |, ^(XOR), ~(반대)\n",
    "- AI의 겨울을 맞이한 게 XOR때문이었다.\n",
    "\n",
    "...\n",
    "x    y    x&y   x|y   x^y   ~x\n",
    "- - - - - - - - - - - - - - - - - - - \n",
    "0    0    0    0     0      1\n",
    "0    1    0    1     1      1\n",
    "1    0    0    1     1      0\n",
    "1    1    1    1     0      0\n",
    "\n",
    "..."
   ]
  },
  {
   "cell_type": "code",
   "execution_count": null,
   "id": "af1e4bc1",
   "metadata": {},
   "outputs": [],
   "source": [
    "# 고개"
   ]
  },
  {
   "cell_type": "code",
   "execution_count": 5,
   "id": "d4a553d6",
   "metadata": {},
   "outputs": [
    {
     "name": "stdout",
     "output_type": "stream",
     "text": [
      "  a = 15 : 1111\n",
      "  b =  2 : 0010\n",
      "a&b =  2 : 0010\n",
      "a|b = 15 : 1111\n",
      "a^b = 13 : 1101\n",
      "-16\n"
     ]
    }
   ],
   "source": [
    "a = 15 #8+4+2+1   2진수로 바꾸면 1111\n",
    "b = 2 # 2진수로 바꾸면 10\n",
    "print(\"  a = {0:2} : {0:04b}\".format(a))\n",
    "print(\"  b = {0:2} : {0:04b}\".format(b))\n",
    "print(\"a&b = {0:2} : {0:04b}\".format(a&b))\n",
    "print(\"a|b = {0:2} : {0:04b}\".format(a|b))\n",
    "print(\"a^b = {0:2} : {0:04b}\".format(a^b))\n",
    "print(~a)"
   ]
  },
  {
   "cell_type": "code",
   "execution_count": null,
   "id": "afff549e",
   "metadata": {},
   "outputs": [],
   "source": []
  },
  {
   "cell_type": "code",
   "execution_count": null,
   "id": "f26cded7",
   "metadata": {},
   "outputs": [],
   "source": []
  },
  {
   "cell_type": "code",
   "execution_count": null,
   "id": "e238d398",
   "metadata": {},
   "outputs": [],
   "source": []
  },
  {
   "cell_type": "code",
   "execution_count": null,
   "id": "db6d2835",
   "metadata": {},
   "outputs": [],
   "source": []
  },
  {
   "cell_type": "markdown",
   "id": "ca1b717f",
   "metadata": {},
   "source": [
    "# 6절 문자열 다루기\n",
    "반드시 타이핑을 쳐봐야된다. \n",
    "\n",
    "문자열변수[from:to:step] : 일부 문자 추출\n",
    "\n",
    "len(문자열변수) : 문자수\n",
    "\n",
    "upper() : 대문자로\n",
    "\n",
    "lower() : 소문자로\n",
    "\n",
    "title() : 각 어절의 앞글자만 대문자로\n",
    "\n",
    "capitalize() : 첫문자만 대문자로\n",
    "\n",
    "count(\"찾을문자\") : \"찾을문자\"가 몇개 들어있는지 갯수 반환\n",
    "\n",
    "find(\"찾을문자\") : \"찾을문자\"가 왼쪽부터 몇번째에 있는지 index를 반환 (없으면 -1)\n",
    "\n",
    "rfind(\"찾을문자\") : \"찾을문자\"가 오른쪽부터 몇번째에 있는지 index를 반환(없으면 -1)\n",
    "\n",
    "cf. index(\"찾을문자\") : 찾을문자가 왼쪽부터 몇번째에 있는 index를 반환(없으면 에러)\n",
    "\n",
    "startswith(\"특정문자\") : \"특정문자\"로 시작하는지 여부 반환\n",
    "\n",
    "endswith(\"특정문자\") : \"특정문자\"로 끝나는지 여부 반환\n",
    "\n",
    "strip() : 좌우공백제거(trim)\n",
    "\n",
    "lstrip() : 왼쪽 공백 제거\n",
    "\n",
    "rstrip() : 오른쪽 공백 제거\n",
    "\n",
    "split() : 문자열을 공백이나 다른 문자 기준으로 나누어 리스트로 반환\n",
    "\n",
    "isdigit() : 문자열이 숫자문자열인지 여부 반환\n",
    "\n",
    "islower() : 문자열이 소문자인지 여부 반환\n",
    "\n",
    "isupper() : 문자열이 대문자인지 여부 반환\n",
    "\n",
    "replace(oldStr, newStr) : oldStr을 newStr로 변경"
   ]
  },
  {
   "cell_type": "code",
   "execution_count": 6,
   "id": "71fe5776",
   "metadata": {},
   "outputs": [
    {
     "data": {
      "text/plain": [
       "('python is easy. python is smart. python', 39)"
      ]
     },
     "execution_count": 6,
     "metadata": {},
     "output_type": "execute_result"
    }
   ],
   "source": [
    "temp = \"python is easy. python is smart. python\"\n",
    "temp, len(temp)"
   ]
  },
  {
   "cell_type": "code",
   "execution_count": 7,
   "id": "e984d274",
   "metadata": {},
   "outputs": [
    {
     "name": "stdout",
     "output_type": "stream",
     "text": [
      "대문자로 : PYTHON IS EASY. PYTHON IS SMART. PYTHON\n",
      "소문자로 : python is easy. python is smart. python\n",
      "title() : Python Is Easy. Python Is Smart. Python\n",
      "capitalize() : Python is easy. python is smart. python\n",
      "C이 몇번 나오는지 : 0\n",
      "python이 몇번 나오는지 : 2\n",
      "대소문자 구분없이 python이 몇번 : 3\n",
      "대소문자 구분없이 python이 몇번 : 3\n",
      "대소문자 구분없이 python이 몇번 : 3\n",
      "python이 나오는 첫index 위치 : 0\n",
      "python이 나오는 마지막 index 위치 : 33\n",
      "C가 나오는 index위치 : -1\n",
      "python이 나오는 첫 index 위치 : 0\n",
      "python으로 시작하는 여부 : True\n",
      "대소문자 구분없이 python으로 시작하는 여부 : True\n",
      "python으로 끝나는지 여부 : True\n",
      "n으로 끝나는지 여부 : True\n",
      "python을 R로 변경 : R is easy. Python is smart. R\n",
      "python is easy. Python is smart. python\n"
     ]
    }
   ],
   "source": [
    "temp = \"python is easy. Python is smart. python\"\n",
    "    #   0123456789012345687901234567890123\n",
    "print(\"대문자로 :\", temp.upper())\n",
    "print(\"소문자로 :\", temp.lower())\n",
    "print(\"title() :\", temp.title())\n",
    "print(\"capitalize() :\", temp.capitalize())\n",
    "print(\"C이 몇번 나오는지 :\", temp.count(\"C\"))\n",
    "print(\"python이 몇번 나오는지 :\", temp.count(\"python\"))\n",
    "print(\"대소문자 구분없이 python이 몇번 :\", temp.lower().count(\"python\"))\n",
    "print(\"대소문자 구분없이 python이 몇번 :\", temp.upper().count(\"PYTHON\"))\n",
    "print(\"대소문자 구분없이 python이 몇번 :\", temp.title().count(\"Python\"))\n",
    "print(\"python이 나오는 첫index 위치 :\", temp.find(\"python\"))\n",
    "print(\"python이 나오는 마지막 index 위치 :\", temp.rfind(\"python\"))\n",
    "print(\"C가 나오는 index위치 :\", temp.find(\"C\")) # 찾을문자가 없을 경우 -1\n",
    "print(\"python이 나오는 첫 index 위치 :\", temp.index(\"python\"))\n",
    "# print(\"java이 나오는 첫 index 위치 :\", temp.index(\"java\")) 찾을문자가 없을 경우 에러\n",
    "print(\"python으로 시작하는 여부 :\",  temp.startswith(\"python\"))\n",
    "print(\"대소문자 구분없이 python으로 시작하는 여부 :\",  temp.lower().startswith(\"python\"))\n",
    "print(\"python으로 끝나는지 여부 :\", temp.endswith(\"python\"))\n",
    "print(\"n으로 끝나는지 여부 :\", temp.endswith(\"n\"))\n",
    "print(\"python을 R로 변경 :\", temp.replace(\"python\", \"R\"))\n",
    "print(temp)"
   ]
  },
  {
   "cell_type": "code",
   "execution_count": 8,
   "id": "c4132129",
   "metadata": {},
   "outputs": [
    {
     "name": "stdout",
     "output_type": "stream",
     "text": [
      "좌우 공백 제거 : [python is easy]\n",
      "왼쪽 공백 제거 : [python is easy    ]\n",
      "오른쪽 공백 제거 : [    python is easy]\n",
      "isdigit(숫자문자)인지 여부 : False\n",
      "replace후 isdigit : True\n",
      "대문자인지 여부 : False\n",
      "소문자인지 여부 : True\n"
     ]
    }
   ],
   "source": [
    "temp = \"    python is easy    \"\n",
    "notdigit = \"1,000\"\n",
    "print(\"좌우 공백 제거 : [{}]\".format(temp.strip()) )\n",
    "print(\"왼쪽 공백 제거 : [{}]\".format(temp.lstrip()) )\n",
    "print(\"오른쪽 공백 제거 : [{}]\".format(temp.rstrip()) )\n",
    "print(\"isdigit(숫자문자)인지 여부 :\", notdigit.isdigit())\n",
    "print(\"replace후 isdigit :\", notdigit.replace(\",\", \"\").isdigit())\n",
    "print(\"대문자인지 여부 :\", temp.isupper())\n",
    "print(\"소문자인지 여부 :\", temp.islower())"
   ]
  },
  {
   "cell_type": "code",
   "execution_count": 9,
   "id": "5dc31c29",
   "metadata": {},
   "outputs": [
    {
     "name": "stdout",
     "output_type": "stream",
     "text": [
      "space단위로 names 분리(list로 반환) : ['홍길동', '김길동', '박길동', '주길동', '고길동']\n",
      "홍길동 김길동\n"
     ]
    }
   ],
   "source": [
    "names = \"홍길동 김길동      박길동 주길동 고길동\"\n",
    "name_list = names.split()\n",
    "print(\"space단위로 names 분리(list로 반환) :\", name_list)\n",
    "print(name_list[0], name_list[1])"
   ]
  },
  {
   "cell_type": "code",
   "execution_count": 11,
   "id": "c04fa24e",
   "metadata": {},
   "outputs": [
    {
     "name": "stdout",
     "output_type": "stream",
     "text": [
      "['2025', '09', '17']\n",
      "년도 : 2025\n",
      "월 : 09\n",
      "일 : 17\n"
     ]
    }
   ],
   "source": [
    "date_str = \"2025-09-17\"\n",
    "date_list = date_str.split(\"-\")\n",
    "print(date_list)\n",
    "print(\"년도 :\", date_list[0])\n",
    "print(\"월 :\", date_list[1])\n",
    "print(\"일 :\", date_list[2])"
   ]
  },
  {
   "cell_type": "code",
   "execution_count": 12,
   "id": "86d02b50",
   "metadata": {},
   "outputs": [
    {
     "data": {
      "text/plain": [
       "('A', 'B', 'C')"
      ]
     },
     "execution_count": 12,
     "metadata": {},
     "output_type": "execute_result"
    }
   ],
   "source": [
    "# str_ = \"ABC\"\n",
    "str_ = [\"A\", \"B\", \"C\"]\n",
    "str_[0], str_[1], str_[2]"
   ]
  },
  {
   "cell_type": "code",
   "execution_count": 13,
   "id": "fb4481da",
   "metadata": {},
   "outputs": [
    {
     "name": "stdout",
     "output_type": "stream",
     "text": [
      "분리된 temp : ['Python', '웹(HTML/CSS/JS)', 'Oracle/MySQL(DBMS)', 'DL/ML', 'LLM(RAG)']\n",
      "join temp : Python/웹(HTML/CSS/JS)/Oracle/MySQL(DBMS)/DL/ML/LLM(RAG)\n"
     ]
    }
   ],
   "source": [
    "# ' - '을 \"/\"로 바꾸기\n",
    "temp = \"Python - 웹(HTML/CSS/JS) - Oracle/MySQL(DBMS) - DL/ML - LLM(RAG)\"\n",
    "# temp.replace(\" - \", \"/\")\n",
    "# split()와 join() 이용하여 replace역할\n",
    "splited_temp = temp.split(\" - \")\n",
    "print('분리된 temp :', splited_temp)\n",
    "joined_temp = \"/\".join(splited_temp) # \"/\"로 매개변수 list를 연결\n",
    "print(\"join temp :\", joined_temp)"
   ]
  },
  {
   "cell_type": "code",
   "execution_count": 14,
   "id": "66130b90",
   "metadata": {},
   "outputs": [
    {
     "data": {
      "text/plain": [
       "['__add__',\n",
       " '__class__',\n",
       " '__contains__',\n",
       " '__delattr__',\n",
       " '__dir__',\n",
       " '__doc__',\n",
       " '__eq__',\n",
       " '__format__',\n",
       " '__ge__',\n",
       " '__getattribute__',\n",
       " '__getitem__',\n",
       " '__getnewargs__',\n",
       " '__gt__',\n",
       " '__hash__',\n",
       " '__init__',\n",
       " '__init_subclass__',\n",
       " '__iter__',\n",
       " '__le__',\n",
       " '__len__',\n",
       " '__lt__',\n",
       " '__mod__',\n",
       " '__mul__',\n",
       " '__ne__',\n",
       " '__new__',\n",
       " '__reduce__',\n",
       " '__reduce_ex__',\n",
       " '__repr__',\n",
       " '__rmod__',\n",
       " '__rmul__',\n",
       " '__setattr__',\n",
       " '__sizeof__',\n",
       " '__str__',\n",
       " '__subclasshook__',\n",
       " 'capitalize',\n",
       " 'casefold',\n",
       " 'center',\n",
       " 'count',\n",
       " 'encode',\n",
       " 'endswith',\n",
       " 'expandtabs',\n",
       " 'find',\n",
       " 'format',\n",
       " 'format_map',\n",
       " 'index',\n",
       " 'isalnum',\n",
       " 'isalpha',\n",
       " 'isascii',\n",
       " 'isdecimal',\n",
       " 'isdigit',\n",
       " 'isidentifier',\n",
       " 'islower',\n",
       " 'isnumeric',\n",
       " 'isprintable',\n",
       " 'isspace',\n",
       " 'istitle',\n",
       " 'isupper',\n",
       " 'join',\n",
       " 'ljust',\n",
       " 'lower',\n",
       " 'lstrip',\n",
       " 'maketrans',\n",
       " 'partition',\n",
       " 'removeprefix',\n",
       " 'removesuffix',\n",
       " 'replace',\n",
       " 'rfind',\n",
       " 'rindex',\n",
       " 'rjust',\n",
       " 'rpartition',\n",
       " 'rsplit',\n",
       " 'rstrip',\n",
       " 'split',\n",
       " 'splitlines',\n",
       " 'startswith',\n",
       " 'strip',\n",
       " 'swapcase',\n",
       " 'title',\n",
       " 'translate',\n",
       " 'upper',\n",
       " 'zfill']"
      ]
     },
     "execution_count": 14,
     "metadata": {},
     "output_type": "execute_result"
    }
   ],
   "source": [
    "# 문자열을 다룰 수 있는 함수들 목록\n",
    "dir(str)"
   ]
  },
  {
   "cell_type": "code",
   "execution_count": null,
   "id": "9f76e775",
   "metadata": {},
   "outputs": [],
   "source": []
  },
  {
   "cell_type": "code",
   "execution_count": null,
   "id": "d6c73faf",
   "metadata": {},
   "outputs": [],
   "source": []
  },
  {
   "cell_type": "markdown",
   "id": "1eedc045",
   "metadata": {},
   "source": [
    "# 7절. 시간, 날짜 다루기"
   ]
  },
  {
   "cell_type": "code",
   "execution_count": null,
   "id": "ab400c0f",
   "metadata": {},
   "outputs": [],
   "source": []
  },
  {
   "cell_type": "code",
   "execution_count": 15,
   "id": "ac84e9a4",
   "metadata": {},
   "outputs": [
    {
     "data": {
      "text/plain": [
       "'C:\\\\Users\\\\Admin\\\\anaconda3\\\\lib\\\\datetime.py'"
      ]
     },
     "execution_count": 15,
     "metadata": {},
     "output_type": "execute_result"
    }
   ],
   "source": [
    "import datetime\n",
    "datetime.__file__"
   ]
  },
  {
   "cell_type": "code",
   "execution_count": 18,
   "id": "466dfa86",
   "metadata": {},
   "outputs": [],
   "source": [
    "# datetime모듈(datetime.py)안의 , datetime, date, time 이 세 개만 load\n",
    "from datetime import datetime, date, time"
   ]
  },
  {
   "cell_type": "markdown",
   "id": "a91dbe4c",
   "metadata": {},
   "source": [
    "## 7.1 시간과 날짜"
   ]
  },
  {
   "cell_type": "code",
   "execution_count": 19,
   "id": "115f4ff8",
   "metadata": {},
   "outputs": [
    {
     "data": {
      "text/plain": [
       "datetime.datetime(2025, 9, 11, 9, 30)"
      ]
     },
     "execution_count": 19,
     "metadata": {},
     "output_type": "execute_result"
    }
   ],
   "source": [
    "# 특정 시점을 갖는 datetime 객체 생성\n",
    "thatday = datetime(2025, 9, 11, 9, 30)\n",
    "thatday"
   ]
  },
  {
   "cell_type": "code",
   "execution_count": 20,
   "id": "d6eccad8",
   "metadata": {},
   "outputs": [
    {
     "name": "stdout",
     "output_type": "stream",
     "text": [
      "25년09월11일(Thursday) 09:30:00\n",
      "25년09월11일(Thursday) 09:30:00\n",
      "Thu Sep 11 09:30:00 2025\n"
     ]
    }
   ],
   "source": [
    "# 날짜를 문자열로 전환\n",
    "print(\"{:%y년%m월%d일(%A) %H:%M:%S}\".format(thatday))\n",
    "print(thatday.strftime(\"%y년%m월%d일(%A) %H:%M:%S\"))\n",
    "print(thatday.ctime()) # ctime() : 사람이 읽기 쉬는 형태로 convert"
   ]
  },
  {
   "cell_type": "code",
   "execution_count": 23,
   "id": "bd674422",
   "metadata": {},
   "outputs": [
    {
     "name": "stdout",
     "output_type": "stream",
     "text": [
      "2025-09-17 15:51:22.055088\n",
      "Wed Sep 17 15:51:22 2025\n",
      "2025년09월17일 PM 03:51:22\n"
     ]
    }
   ],
   "source": [
    "# 지금을 저장하는 datetime 객체 생성\n",
    "now = datetime.now()\n",
    "print(now)\n",
    "print(now.ctime())\n",
    "print(now.strftime(\"%Y년%m월%d일 %p %I:%M:%S\"))"
   ]
  },
  {
   "cell_type": "code",
   "execution_count": 24,
   "id": "6d2f462a",
   "metadata": {},
   "outputs": [
    {
     "name": "stdout",
     "output_type": "stream",
     "text": [
      "6 days, 6:21:22.055088\n",
      "6\n"
     ]
    }
   ],
   "source": [
    "diff = now-thatday\n",
    "print(diff)\n",
    "print(diff.days)"
   ]
  },
  {
   "cell_type": "code",
   "execution_count": 26,
   "id": "71f20e20",
   "metadata": {},
   "outputs": [],
   "source": [
    "# p라는 변수에 시간만 있고 날짜를 뱉어내라 한다면? ㅋㅋ \n",
    "\n",
    "#1900년 1월 1일로 뜬다"
   ]
  },
  {
   "cell_type": "markdown",
   "id": "2f12bad8",
   "metadata": {},
   "source": [
    "## 7.2 날짜"
   ]
  },
  {
   "cell_type": "code",
   "execution_count": 27,
   "id": "3043d803",
   "metadata": {},
   "outputs": [
    {
     "data": {
      "text/plain": [
       "datetime.date(2025, 9, 11)"
      ]
     },
     "execution_count": 27,
     "metadata": {},
     "output_type": "execute_result"
    }
   ],
   "source": [
    "# 특정한 날짜를 갖는 date 객체 생성\n",
    "someday = date(2025, 9, 11)\n",
    "someday"
   ]
  },
  {
   "cell_type": "code",
   "execution_count": 28,
   "id": "d56f8588",
   "metadata": {},
   "outputs": [
    {
     "name": "stdout",
     "output_type": "stream",
     "text": [
      "2025-09-11\n",
      "2025년 09월 11일 00:00\n"
     ]
    }
   ],
   "source": [
    "print(someday)\n",
    "print(someday.strftime(\"%Y년 %m월 %d일 %H:%M\"))"
   ]
  },
  {
   "cell_type": "code",
   "execution_count": 29,
   "id": "5460b4e8",
   "metadata": {},
   "outputs": [
    {
     "name": "stdout",
     "output_type": "stream",
     "text": [
      "True\n"
     ]
    }
   ],
   "source": [
    "# 오늘을 갖는 date 객체 생성\n",
    "today1 = date.today()\n",
    "today2 = datetime.now().date()\n",
    "print(today1 == today2)"
   ]
  },
  {
   "cell_type": "code",
   "execution_count": 30,
   "id": "b9b92104",
   "metadata": {},
   "outputs": [
    {
     "name": "stdout",
     "output_type": "stream",
     "text": [
      "2025년09월17일 00:00\n",
      "2025년09월17일 00:00\n"
     ]
    }
   ],
   "source": [
    "print(today1.strftime(\"%Y년%m월%d일 %H:%M\"))\n",
    "print(today2.strftime(\"%Y년%m월%d일 %H:%M\"))"
   ]
  },
  {
   "cell_type": "code",
   "execution_count": 31,
   "id": "7f60c6ae",
   "metadata": {},
   "outputs": [
    {
     "name": "stdout",
     "output_type": "stream",
     "text": [
      "-6 days, 0:00:00\n",
      "-6\n"
     ]
    }
   ],
   "source": [
    "diff = someday - today1\n",
    "print(diff)\n",
    "print(diff.days)"
   ]
  },
  {
   "cell_type": "markdown",
   "id": "a0af824c",
   "metadata": {},
   "source": [
    "## 7.3 시간"
   ]
  },
  {
   "cell_type": "code",
   "execution_count": 32,
   "id": "f757f122",
   "metadata": {},
   "outputs": [
    {
     "data": {
      "text/plain": [
       "datetime.time(14, 39)"
      ]
     },
     "execution_count": 32,
     "metadata": {},
     "output_type": "execute_result"
    }
   ],
   "source": [
    "# 특정한 시간을 저장하는 time 객체 생성\n",
    "t = time(14, 39, 0)\n",
    "t"
   ]
  },
  {
   "cell_type": "code",
   "execution_count": 33,
   "id": "a8736a39",
   "metadata": {},
   "outputs": [
    {
     "name": "stdout",
     "output_type": "stream",
     "text": [
      "PM 02:39\n"
     ]
    }
   ],
   "source": [
    "# print(t.strftime(\"%Y년 %m월 %d일 %p %I:%M\"))\n",
    "print(t.strftime(\"%p %I:%M\"))"
   ]
  },
  {
   "cell_type": "code",
   "execution_count": 34,
   "id": "6f402438",
   "metadata": {},
   "outputs": [
    {
     "name": "stdout",
     "output_type": "stream",
     "text": [
      "16:02:45.483296\n"
     ]
    }
   ],
   "source": [
    "# 현재 시간\n",
    "nowtime = datetime.now().time()\n",
    "print(nowtime)"
   ]
  },
  {
   "cell_type": "markdown",
   "id": "0ae90f22",
   "metadata": {},
   "source": [
    "# 8절. 연습문제"
   ]
  },
  {
   "cell_type": "code",
   "execution_count": 35,
   "id": "1daeb67d",
   "metadata": {},
   "outputs": [
    {
     "name": "stdout",
     "output_type": "stream",
     "text": [
      "홍길동님의 나이는  23살입니다\n",
      "홍길동님의 나이는 23살입니다\n",
      "홍길동님의 나이는 23살입니다\n",
      "홍길동님의 나이는 23살입니다\n"
     ]
    }
   ],
   "source": [
    "# 1.이름과 나이 변수를 다음 형식으로 출력하도록 format() 함수를 이용해 형식화하세요\n",
    "# [출력형식 : 홍길동님의 나이는 23살입니다]\n",
    "name = '홍길동'\n",
    "age = 23\n",
    "print('{}님의 나이는 {:3}살입니다'.format(name, age))\n",
    "print('{0}님의 나이는 {1}살입니다'.format(name, age))\n",
    "print('%s님의 나이는 %d살입니다'% (name, age))\n",
    "print(f'{name}님의 나이는 {age}살입니다')"
   ]
  },
  {
   "cell_type": "code",
   "execution_count": 36,
   "id": "d1c469ff",
   "metadata": {},
   "outputs": [
    {
     "name": "stdout",
     "output_type": "stream",
     "text": [
      "첫번째 수10\n",
      "두번째 수5\n",
      "num1 + num2 =  15\n",
      "num1 - num2 =  5\n",
      "num1 * num2 =  50\n",
      "num1 / num2 =  2.0\n",
      "num1 // num2 =  2\n",
      "num1 % num2 =  0\n"
     ]
    }
   ],
   "source": [
    "# 2 두 정수입력받아 산술연산결과 출력\n",
    "num1 = int(input('첫번째 수'))\n",
    "num2 = int(input('두번째 수'))\n",
    "print('num1 + num2 = ', (num1+num2))\n",
    "print('num1 - num2 = ', (num1-num2))\n",
    "print('num1 * num2 = ', (num1*num2))\n",
    "print('num1 / num2 = ', (num1/num2))\n",
    "print('num1 // num2 = ', (num1//num2))\n",
    "print('num1 % num2 = ', (num1%num2))"
   ]
  },
  {
   "cell_type": "code",
   "execution_count": null,
   "id": "99c80aa2",
   "metadata": {},
   "outputs": [],
   "source": [
    "1.\n",
    "이름과 나이 변수를 다음 형식으로 출력하도록 format() 함수를 이용해 형식화하세요\n",
    "[\n",
    "출력형식 : 홍길동님의 나이는 23 살입니다\n",
    "2.\n",
    "두 정수를 입력받아 두 수의 덧셈 , 뺄셈 , 곱셈 , 나눗셈 , 몫 , 나머지를 출력하세요\n",
    "3.\n",
    "문자열의 분리하기와 합치기 기능을 이용하여 ‘Hello 가 할당된 변수를 이용하여\n",
    "‘World 로 출력하세요\n",
    "4.\n",
    "x = ' abcdef ＇를 이용하여 bcdefa 로 출력하세요 문자 슬라이싱이용\n",
    "5.\n",
    "x = ‘ abcdef 를 이용하여 fedcba 로 출력하세요\n",
    "6.\n",
    "오늘의 온도를 섭씨온도로 입력받아 화씨 온도로 변환하는 프로그램을 작성하세요 . 화\n",
    "씨 온도는 소수점이 있을 경우만 두번째 자리까지 출력되고 , 소수점이하 값이 없는 경\n",
    "우 소수점을 출력하지 않도록 합니다 다음은 섭씨와 화씨의 변환 공식입니다 . C 는 섭씨 ,\n",
    "F 는 화씨\n",
    "C = (F\n",
    "32) / 1.8\n",
    "F = (C\n",
    "1.8) + 32"
   ]
  },
  {
   "cell_type": "code",
   "execution_count": null,
   "id": "136c0d9a",
   "metadata": {},
   "outputs": [],
   "source": [
    "# 다시 1번문제 내 힘으로 안 보고 풀어보기\n",
    "\n"
   ]
  },
  {
   "cell_type": "code",
   "execution_count": null,
   "id": "99f9b6b7",
   "metadata": {},
   "outputs": [],
   "source": [
    "#2\n",
    "\n",
    "input()\n",
    "N = int(input())"
   ]
  },
  {
   "cell_type": "code",
   "execution_count": null,
   "id": "3f776dde",
   "metadata": {},
   "outputs": [],
   "source": [
    "#3\n"
   ]
  },
  {
   "cell_type": "code",
   "execution_count": null,
   "id": "14a570d4",
   "metadata": {},
   "outputs": [],
   "source": []
  },
  {
   "cell_type": "code",
   "execution_count": null,
   "id": "dbaba629",
   "metadata": {},
   "outputs": [],
   "source": []
  },
  {
   "cell_type": "code",
   "execution_count": null,
   "id": "6d83b4bc",
   "metadata": {},
   "outputs": [],
   "source": []
  },
  {
   "cell_type": "code",
   "execution_count": null,
   "id": "b196ed21",
   "metadata": {},
   "outputs": [],
   "source": []
  },
  {
   "cell_type": "code",
   "execution_count": null,
   "id": "90b21e64",
   "metadata": {},
   "outputs": [],
   "source": []
  },
  {
   "cell_type": "code",
   "execution_count": null,
   "id": "07f0f74a",
   "metadata": {},
   "outputs": [],
   "source": []
  },
  {
   "cell_type": "code",
   "execution_count": null,
   "id": "ceb72eda",
   "metadata": {},
   "outputs": [],
   "source": []
  },
  {
   "cell_type": "code",
   "execution_count": null,
   "id": "59b8d37d",
   "metadata": {},
   "outputs": [],
   "source": []
  },
  {
   "cell_type": "code",
   "execution_count": null,
   "id": "7dcf1b76",
   "metadata": {},
   "outputs": [],
   "source": []
  },
  {
   "cell_type": "code",
   "execution_count": null,
   "id": "e5da1b07",
   "metadata": {},
   "outputs": [],
   "source": []
  },
  {
   "cell_type": "code",
   "execution_count": null,
   "id": "167a3d67",
   "metadata": {},
   "outputs": [],
   "source": []
  },
  {
   "cell_type": "code",
   "execution_count": null,
   "id": "e846b2eb",
   "metadata": {},
   "outputs": [],
   "source": []
  },
  {
   "cell_type": "code",
   "execution_count": null,
   "id": "c6fc7944",
   "metadata": {},
   "outputs": [],
   "source": []
  },
  {
   "cell_type": "code",
   "execution_count": null,
   "id": "6492f922",
   "metadata": {},
   "outputs": [],
   "source": []
  },
  {
   "cell_type": "code",
   "execution_count": null,
   "id": "e8ad7356",
   "metadata": {},
   "outputs": [],
   "source": []
  },
  {
   "cell_type": "code",
   "execution_count": null,
   "id": "54c19a63",
   "metadata": {},
   "outputs": [],
   "source": []
  },
  {
   "cell_type": "code",
   "execution_count": null,
   "id": "6a7f0f60",
   "metadata": {},
   "outputs": [],
   "source": []
  },
  {
   "cell_type": "code",
   "execution_count": null,
   "id": "4b5e146e",
   "metadata": {},
   "outputs": [],
   "source": []
  },
  {
   "cell_type": "code",
   "execution_count": null,
   "id": "23b96de1",
   "metadata": {},
   "outputs": [],
   "source": []
  },
  {
   "cell_type": "code",
   "execution_count": null,
   "id": "98d30083",
   "metadata": {},
   "outputs": [],
   "source": []
  },
  {
   "cell_type": "code",
   "execution_count": null,
   "id": "3ba76e93",
   "metadata": {},
   "outputs": [],
   "source": []
  },
  {
   "cell_type": "code",
   "execution_count": null,
   "id": "a76ec2ee",
   "metadata": {},
   "outputs": [],
   "source": []
  },
  {
   "cell_type": "code",
   "execution_count": null,
   "id": "59abea6f",
   "metadata": {},
   "outputs": [],
   "source": []
  },
  {
   "cell_type": "code",
   "execution_count": null,
   "id": "df62bbb1",
   "metadata": {},
   "outputs": [],
   "source": []
  },
  {
   "cell_type": "code",
   "execution_count": null,
   "id": "b87a7011",
   "metadata": {},
   "outputs": [],
   "source": []
  },
  {
   "cell_type": "code",
   "execution_count": null,
   "id": "93840b97",
   "metadata": {},
   "outputs": [],
   "source": []
  },
  {
   "cell_type": "code",
   "execution_count": null,
   "id": "84773f55",
   "metadata": {},
   "outputs": [],
   "source": []
  },
  {
   "cell_type": "code",
   "execution_count": null,
   "id": "e30470be",
   "metadata": {},
   "outputs": [],
   "source": []
  },
  {
   "cell_type": "code",
   "execution_count": null,
   "id": "621676c1",
   "metadata": {},
   "outputs": [],
   "source": []
  },
  {
   "cell_type": "code",
   "execution_count": null,
   "id": "775ba3bb",
   "metadata": {},
   "outputs": [],
   "source": []
  },
  {
   "cell_type": "code",
   "execution_count": null,
   "id": "16fb9f94",
   "metadata": {},
   "outputs": [],
   "source": []
  },
  {
   "cell_type": "code",
   "execution_count": null,
   "id": "d761d5be",
   "metadata": {},
   "outputs": [],
   "source": []
  },
  {
   "cell_type": "code",
   "execution_count": null,
   "id": "34b09e98",
   "metadata": {},
   "outputs": [],
   "source": []
  },
  {
   "cell_type": "code",
   "execution_count": null,
   "id": "752094b5",
   "metadata": {},
   "outputs": [],
   "source": []
  },
  {
   "cell_type": "code",
   "execution_count": null,
   "id": "6f6936cd",
   "metadata": {},
   "outputs": [],
   "source": []
  },
  {
   "cell_type": "code",
   "execution_count": null,
   "id": "47d2eccd",
   "metadata": {},
   "outputs": [],
   "source": []
  },
  {
   "cell_type": "code",
   "execution_count": null,
   "id": "9650fd21",
   "metadata": {},
   "outputs": [],
   "source": []
  },
  {
   "cell_type": "code",
   "execution_count": null,
   "id": "5b860869",
   "metadata": {},
   "outputs": [],
   "source": []
  },
  {
   "cell_type": "code",
   "execution_count": null,
   "id": "783a32ec",
   "metadata": {},
   "outputs": [],
   "source": []
  },
  {
   "cell_type": "code",
   "execution_count": null,
   "id": "505c8ac3",
   "metadata": {},
   "outputs": [],
   "source": []
  },
  {
   "cell_type": "code",
   "execution_count": null,
   "id": "48cb8cee",
   "metadata": {},
   "outputs": [],
   "source": []
  },
  {
   "cell_type": "code",
   "execution_count": null,
   "id": "4f120cd2",
   "metadata": {},
   "outputs": [],
   "source": []
  },
  {
   "cell_type": "code",
   "execution_count": null,
   "id": "3b353f1f",
   "metadata": {},
   "outputs": [],
   "source": []
  },
  {
   "cell_type": "code",
   "execution_count": null,
   "id": "5754a786",
   "metadata": {},
   "outputs": [],
   "source": []
  },
  {
   "cell_type": "code",
   "execution_count": null,
   "id": "1067b39a",
   "metadata": {},
   "outputs": [],
   "source": []
  }
 ],
 "metadata": {
  "kernelspec": {
   "display_name": "Python 3 (ipykernel)",
   "language": "python",
   "name": "python3"
  },
  "language_info": {
   "codemirror_mode": {
    "name": "ipython",
    "version": 3
   },
   "file_extension": ".py",
   "mimetype": "text/x-python",
   "name": "python",
   "nbconvert_exporter": "python",
   "pygments_lexer": "ipython3",
   "version": "3.10.9"
  },
  "toc": {
   "base_numbering": 1,
   "nav_menu": {},
   "number_sections": false,
   "sideBar": true,
   "skip_h1_title": false,
   "title_cell": "Table of Contents",
   "title_sidebar": "Contents",
   "toc_cell": false,
   "toc_position": {},
   "toc_section_display": true,
   "toc_window_display": false
  }
 },
 "nbformat": 4,
 "nbformat_minor": 5
}

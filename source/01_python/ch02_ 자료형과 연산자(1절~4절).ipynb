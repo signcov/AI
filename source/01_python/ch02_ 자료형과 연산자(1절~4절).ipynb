{
 "cells": [
  {
   "cell_type": "code",
   "execution_count": 79,
   "id": "18819627",
   "metadata": {},
   "outputs": [
    {
     "data": {
      "text/html": [
       "\n",
       "<style>\n",
       "div.container{width:90% !important;}\n",
       "div.cell.code_cell.rendered{width:100%;}\n",
       "div.input_prompt{padding:0px;}\n",
       "div.CodeMirror {font-family:Consolas; font-size:12pt;}\n",
       "div.text_cell_render.rendered_html{font-size:12pt;}\n",
       "div.output {font-size:12pt; font-weight:bold;}\n",
       "div.input {font-family:Consolas; font-size:12pt;}\n",
       "div.prompt {min-width:70px;}\n",
       "div#toc-wrapper{padding-top:120px;}\n",
       "div.text_cell_render ul li{font-size:12pt;padding:5px;}\n",
       "table.dataframe{font-size:12px;}\n",
       "</style>\n"
      ],
      "text/plain": [
       "<IPython.core.display.HTML object>"
      ]
     },
     "metadata": {},
     "output_type": "display_data"
    }
   ],
   "source": []
  },
  {
   "cell_type": "markdown",
   "id": "0ce10d86",
   "metadata": {},
   "source": [
    "<b><font size=\"6\" color=\"red\">ch01. 자료형과 연산자</font></b>\n",
    "자료형은 뭐가 숫자인지 문자인지 모르는 것\n",
    "# 1절. 변수\n",
    "- 변수 : 프로그램 작업 처리를 위해, 값을 저장할 수 있는 메모리 공간\n",
    "- 파이썬은 변수 선언도, 선언을 위한 타입도 없다. 별도의 선언 과정도 없다. 그냥 할당하면 된다. \n",
    "\n",
    "## 1.1 변수 할당\n",
    "- 할당연산자(=)을 이용해서 값을 할당하면 자료형(타입)이 셋팅\n",
    "- **파이썬에서의 모든 변수는 객체로 저장"
   ]
  },
  {
   "cell_type": "code",
   "execution_count": 2,
   "id": "874063b4",
   "metadata": {},
   "outputs": [
    {
     "name": "stdout",
     "output_type": "stream",
     "text": [
      "넓이 : 78.5\n"
     ]
    }
   ],
   "source": [
    "r = 5 #r이랑 5랑 같다는 게 아님\n",
    "area = 3.14 * r * r\n",
    "print('넓이 :', area)"
   ]
  },
  {
   "cell_type": "code",
   "execution_count": 3,
   "id": "ec949210",
   "metadata": {},
   "outputs": [
    {
     "name": "stdout",
     "output_type": "stream",
     "text": [
      "넓이 : 78.53981633974483\n"
     ]
    }
   ],
   "source": [
    "import numpy as np # numpy라는 패키지를 np라는 이름으로 사용하겠어. 어제 파이선 홈페이지 pypi.org 에 700만개 있었다. 그 700만개 중의 하나. \n",
    "area = np.pi * r * r\n",
    "print('넓이 :', area) #하나 출력하시고 싶으면 콤마??"
   ]
  },
  {
   "cell_type": "code",
   "execution_count": null,
   "id": "fc2bf810",
   "metadata": {},
   "outputs": [],
   "source": [
    "#원래 78.5가 메모리 값이었는데 78.5398...이 되었네? 이게 300번지가 됨. 그럼 area에 300번지가 담김. 그럼 area에 몇 번지가 담겨있는지 출력해보자. 저장된 주소를 알고싶다 = id. \n"
   ]
  },
  {
   "cell_type": "code",
   "execution_count": 4,
   "id": "bb5031d3",
   "metadata": {},
   "outputs": [
    {
     "name": "stdout",
     "output_type": "stream",
     "text": [
      "area의 주소 : 2397266824816\n",
      "area의 타입 : <class 'float'>\n"
     ]
    }
   ],
   "source": [
    "print('area의 주소 :', id(area))\n",
    "print('area의 타입 :', type(area))"
   ]
  },
  {
   "cell_type": "code",
   "execution_count": 7,
   "id": "6292e427",
   "metadata": {},
   "outputs": [
    {
     "data": {
      "text/plain": [
       "False"
      ]
     },
     "execution_count": 7,
     "metadata": {},
     "output_type": "execute_result"
    }
   ],
   "source": [
    "area.is_integer()"
   ]
  },
  {
   "cell_type": "code",
   "execution_count": null,
   "id": "3ba73593",
   "metadata": {},
   "outputs": [],
   "source": [
    "#변수 이름 옆에 놓고 할당하면 돼. \n",
    "#area의 타입은 float. \n",
    "#근데 area에 함수값을 넣어보면? "
   ]
  },
  {
   "cell_type": "code",
   "execution_count": 11,
   "id": "b6943cae",
   "metadata": {},
   "outputs": [
    {
     "name": "stdout",
     "output_type": "stream",
     "text": [
      "area의 주소 : 2397304064784\n",
      "area의 타입 : <class 'str'>\n"
     ]
    }
   ],
   "source": [
    "area = \"파이썬\"\n",
    "print('area의 주소 :', id(area))\n",
    "print('area의 타입 :', type(area))"
   ]
  },
  {
   "cell_type": "markdown",
   "id": "f419eee8",
   "metadata": {},
   "source": [
    "## 1.2 변수(함수) 이름 규칙\n",
    "- 무조건 문자로 시작해야된다, not숫자. \n",
    "- 문자(특수문자는 _를 제외하고 불가), 문자랑 숫자, _로 변수명 작성\n",
    "- 함수명은 변수명으로 가능하나 피한다. e.g. str = 5 를 하면 str(2)가 안 됨. 꼭 써야 한다면 str_식으로 사용한다.\n",
    "- int도 함수다. id도. 그래서 int = 5 는 안 됨. \n",
    "- 진짜 못 쓰는 것: 파이썬 예약어 (for, if, ...)는 변수명 사용 불가. \n",
    "- 한글 변수 가능. (문자를 사용하니까) 근데 비추, 꼭 필요시에만 사용. "
   ]
  },
  {
   "cell_type": "code",
   "execution_count": 12,
   "id": "38705d57",
   "metadata": {},
   "outputs": [
    {
     "name": "stdout",
     "output_type": "stream",
     "text": [
      "홍길동\n"
     ]
    }
   ],
   "source": [
    "이름 = '홍길동' #비추\n",
    "print(이름)"
   ]
  },
  {
   "cell_type": "code",
   "execution_count": 15,
   "id": "71b304ea",
   "metadata": {},
   "outputs": [
    {
     "ename": "SyntaxError",
     "evalue": "invalid syntax (3039934606.py, line 1)",
     "output_type": "error",
     "traceback": [
      "\u001b[1;36m  Cell \u001b[1;32mIn[15], line 1\u001b[1;36m\u001b[0m\n\u001b[1;33m    for = 5\u001b[0m\n\u001b[1;37m        ^\u001b[0m\n\u001b[1;31mSyntaxError\u001b[0m\u001b[1;31m:\u001b[0m invalid syntax\n"
     ]
    }
   ],
   "source": [
    "for = 5"
   ]
  },
  {
   "cell_type": "code",
   "execution_count": 13,
   "id": "70d6ce58",
   "metadata": {},
   "outputs": [
    {
     "ename": "NameError",
     "evalue": "name 'member' is not defined",
     "output_type": "error",
     "traceback": [
      "\u001b[1;31m---------------------------------------------------------------------------\u001b[0m",
      "\u001b[1;31mNameError\u001b[0m                                 Traceback (most recent call last)",
      "Cell \u001b[1;32mIn[13], line 1\u001b[0m\n\u001b[1;32m----> 1\u001b[0m \u001b[43mmember\u001b[49m\u001b[38;5;241m.\u001b[39mname \u001b[38;5;241m=\u001b[39m \u001b[38;5;124m'\u001b[39m\u001b[38;5;124m홍길동\u001b[39m\u001b[38;5;124m'\u001b[39m\n",
      "\u001b[1;31mNameError\u001b[0m: name 'member' is not defined"
     ]
    }
   ],
   "source": [
    "member.name = '홍길동'"
   ]
  },
  {
   "cell_type": "code",
   "execution_count": 14,
   "id": "d6d2c504",
   "metadata": {},
   "outputs": [
    {
     "name": "stdout",
     "output_type": "stream",
     "text": [
      "홍길동 홍길동\n"
     ]
    }
   ],
   "source": [
    "#에러 나니까\n",
    "member_name = \"홍길동\"\n",
    "memberName = \"홍길동\"\n",
    "print(member_name, memberName)"
   ]
  },
  {
   "cell_type": "code",
   "execution_count": 16,
   "id": "3ce586eb",
   "metadata": {},
   "outputs": [
    {
     "name": "stdout",
     "output_type": "stream",
     "text": [
      "<class 'complex'>\n"
     ]
    }
   ],
   "source": [
    "# 숫자 : 정수, 실수, (음수 양수도 다 여기 들어감.) 복소수 (1+3i) 근데 파이썬에서는 허수를 j라고 나타냄.\n",
    "i = 1 + 3j #반도체 AI쪽에서는 쓸 지 모르겠는데 우린 잘 안 씀. \n",
    "print(type(i))"
   ]
  },
  {
   "cell_type": "code",
   "execution_count": 17,
   "id": "21ad57e6",
   "metadata": {},
   "outputs": [
    {
     "data": {
      "text/plain": [
       "True"
      ]
     },
     "execution_count": 17,
     "metadata": {},
     "output_type": "execute_result"
    }
   ],
   "source": [
    "# class \n",
    "isinstance(i, complex) # 변수가 complex 타입의 객체인지? "
   ]
  },
  {
   "cell_type": "code",
   "execution_count": 18,
   "id": "e81dc329",
   "metadata": {},
   "outputs": [
    {
     "data": {
      "text/plain": [
       "False"
      ]
     },
     "execution_count": 18,
     "metadata": {},
     "output_type": "execute_result"
    }
   ],
   "source": [
    "isinstance(i, int) # i 변수가 int 타입의 객체인가를 묻는 것"
   ]
  },
  {
   "cell_type": "markdown",
   "id": "c580a747",
   "metadata": {},
   "source": [
    "## 1.3 다중 변수 선언"
   ]
  },
  {
   "cell_type": "code",
   "execution_count": null,
   "id": "c216dd06",
   "metadata": {},
   "outputs": [],
   "source": [
    "a = 10\n",
    "b = 20"
   ]
  },
  {
   "cell_type": "code",
   "execution_count": 20,
   "id": "477e62cc",
   "metadata": {},
   "outputs": [
    {
     "name": "stdout",
     "output_type": "stream",
     "text": [
      "10 20\n"
     ]
    }
   ],
   "source": [
    "#위 셀을 한 번에\n",
    "a, b = 10, 20\n",
    "print(a, b)\n",
    "\n",
    "#이런 다중 변수 선언을 하면 1는 10에 b는 20에 넣는데 동시에 넣음 "
   ]
  },
  {
   "cell_type": "code",
   "execution_count": 21,
   "id": "1e839b88",
   "metadata": {},
   "outputs": [
    {
     "name": "stdout",
     "output_type": "stream",
     "text": [
      "20 30\n"
     ]
    }
   ],
   "source": [
    "a, b = b, a+b  #다중 변수 할당 할 경우에 순차적 할당이 아니고 일괄 동시 할당이 됨. a+b를 먼저 하고 들어가는 것. \n",
    "print(a, b)"
   ]
  },
  {
   "cell_type": "code",
   "execution_count": 22,
   "id": "43e85eda",
   "metadata": {},
   "outputs": [],
   "source": [
    "#우린 지금까지 함수 print, id (주소), instance 해\n",
    "#앞으로 800시간 수업 하니까 더 많이 나옴. 다음주 더 많이 나옴."
   ]
  },
  {
   "cell_type": "markdown",
   "id": "b3968d18",
   "metadata": {},
   "source": [
    "## 1.4 도움말 "
   ]
  },
  {
   "cell_type": "code",
   "execution_count": 23,
   "id": "37861581",
   "metadata": {},
   "outputs": [
    {
     "name": "stdout",
     "output_type": "stream",
     "text": [
      "Help on built-in function print in module builtins:\n",
      "\n",
      "print(...)\n",
      "    print(value, ..., sep=' ', end='\\n', file=sys.stdout, flush=False)\n",
      "    \n",
      "    Prints the values to a stream, or to sys.stdout by default.\n",
      "    Optional keyword arguments:\n",
      "    file:  a file-like object (stream); defaults to the current sys.stdout.\n",
      "    sep:   string inserted between values, default a space.\n",
      "    end:   string appended after the last value, default a newline.\n",
      "    flush: whether to forcibly flush the stream.\n",
      "\n"
     ]
    }
   ],
   "source": [
    "help(print)"
   ]
  },
  {
   "cell_type": "code",
   "execution_count": 1,
   "id": "c0bee040",
   "metadata": {},
   "outputs": [
    {
     "name": "stdout",
     "output_type": "stream",
     "text": [
      "\n",
      "Welcome to Python 3.10's help utility!\n",
      "\n",
      "If this is your first time using Python, you should definitely check out\n",
      "the tutorial on the internet at https://docs.python.org/3.10/tutorial/.\n",
      "\n",
      "Enter the name of any module, keyword, or topic to get help on writing\n",
      "Python programs and using Python modules.  To quit this help utility and\n",
      "return to the interpreter, just type \"quit\".\n",
      "\n",
      "To get a list of available modules, keywords, symbols, or topics, type\n",
      "\"modules\", \"keywords\", \"symbols\", or \"topics\".  Each module also comes\n",
      "with a one-line summary of what it does; to list the modules whose name\n",
      "or summary contain a given string such as \"spam\", type \"modules spam\".\n",
      "\n",
      "help> q\n",
      "\n",
      "You are now leaving help and returning to the Python interpreter.\n",
      "If you want to ask for help on a particular object directly from the\n",
      "interpreter, you can type \"help(object)\".  Executing \"help('string')\"\n",
      "has the same effect as typing a particular string at the help> prompt.\n"
     ]
    }
   ],
   "source": [
    "help() #빠져나오려면 q / 결과 접기/펴기 : esc+o"
   ]
  },
  {
   "cell_type": "code",
   "execution_count": null,
   "id": "66f84f35",
   "metadata": {},
   "outputs": [],
   "source": [
    "#도움말 기능 : shift + tab 키\n",
    "print()"
   ]
  },
  {
   "cell_type": "code",
   "execution_count": 11,
   "id": "44cc8556",
   "metadata": {},
   "outputs": [],
   "source": [
    "def add(x, y = 0): \n",
    "# add 라는 함수를 선언하는 것\n",
    "    ''' \n",
    "    매개변수(x, y) 2개를 받아 두자리 숫자로 만드는 함수\n",
    "    x = 10의 자리수가 되고\n",
    "    y = 1의 자리수가 됨(default값 0)\n",
    "    '''\n",
    "\n",
    "    return x*10 + y"
   ]
  },
  {
   "cell_type": "code",
   "execution_count": 7,
   "id": "9eb698d3",
   "metadata": {},
   "outputs": [
    {
     "data": {
      "text/plain": [
       "34"
      ]
     },
     "execution_count": 7,
     "metadata": {},
     "output_type": "execute_result"
    }
   ],
   "source": [
    "add(3, 4) #왼쪽 괄호 옆에 커서 두고 shift+tab tab 하면 위에 내가 적은 도움말이 나옴. "
   ]
  },
  {
   "cell_type": "code",
   "execution_count": 12,
   "id": "4af14e53",
   "metadata": {},
   "outputs": [
    {
     "data": {
      "text/plain": [
       "30"
      ]
     },
     "execution_count": 12,
     "metadata": {},
     "output_type": "execute_result"
    }
   ],
   "source": [
    "add(3)"
   ]
  },
  {
   "cell_type": "markdown",
   "id": "ebe12a3d",
   "metadata": {},
   "source": [
    "# 2절. 화면 i/o"
   ]
  },
  {
   "cell_type": "code",
   "execution_count": 14,
   "id": "0c3e0916",
   "metadata": {},
   "outputs": [
    {
     "name": "stdout",
     "output_type": "stream",
     "text": [
      "아무거나\n",
      "아무거나\n"
     ]
    }
   ],
   "source": [
    "# input() : 사용자로부터 값을 입력받기 위한 함수, 입력값은 문자(str)로 받음\n",
    "first = input()\n",
    "print(first)\n",
    "#입력을 하고 enter눌러야 끝난다"
   ]
  },
  {
   "cell_type": "code",
   "execution_count": 15,
   "id": "3219cf75",
   "metadata": {},
   "outputs": [
    {
     "name": "stdout",
     "output_type": "stream",
     "text": [
      "첫번째 숫자는?7\n",
      "두번째 숫자는?3\n"
     ]
    }
   ],
   "source": [
    "first = input('첫번째 숫자는?')\n",
    "second = input('두번째 숫자는?')"
   ]
  },
  {
   "cell_type": "code",
   "execution_count": 16,
   "id": "d678d786",
   "metadata": {},
   "outputs": [
    {
     "name": "stdout",
     "output_type": "stream",
     "text": [
      "7 3\n"
     ]
    }
   ],
   "source": [
    "print(first, second)"
   ]
  },
  {
   "cell_type": "code",
   "execution_count": 17,
   "id": "5cc28c71",
   "metadata": {},
   "outputs": [
    {
     "name": "stdout",
     "output_type": "stream",
     "text": [
      "두수의 합은 73\n"
     ]
    }
   ],
   "source": [
    "#더하면 10이어야 될 것 같은데 문자로 들어가 있는 상태이다. 따로 따로 더하는 것. 8이라는 문자 더하기 2라는 문자.\n",
    "#진짜 숫자 입력하려면 input에 int를 감싸야 된다. \n",
    "print('두수의 합은', first+second)"
   ]
  },
  {
   "cell_type": "code",
   "execution_count": 28,
   "id": "26e70ea0",
   "metadata": {},
   "outputs": [
    {
     "name": "stdout",
     "output_type": "stream",
     "text": [
      "첫번째 숫자는?10\n",
      "두번째 숫자는?10\n"
     ]
    }
   ],
   "source": [
    "first=int(input('첫번째 숫자는?'))\n",
    "second = int(input('두번째 숫자는?'))\n",
    "#다시 실행하는 방법: shift + enter"
   ]
  },
  {
   "cell_type": "code",
   "execution_count": 29,
   "id": "03eb4078",
   "metadata": {},
   "outputs": [
    {
     "name": "stdout",
     "output_type": "stream",
     "text": [
      "두수의 합은 20\n"
     ]
    }
   ],
   "source": [
    "print('두수의 합은', first+second)"
   ]
  },
  {
   "cell_type": "code",
   "execution_count": 36,
   "id": "2ef4b487",
   "metadata": {},
   "outputs": [
    {
     "name": "stdout",
     "output_type": "stream",
     "text": [
      "first - 10 - second - 10Hello Python\n"
     ]
    }
   ],
   "source": [
    "print('first', first, 'second', second, sep=' - ', end='')\n",
    "print('Hello', 'Python', sep=' ')\n",
    "#화면 인풋은 input, 출력은 print\n",
    "#end=\\n이 없으면 다음 줄이 앞줄과 붙어서 출력됨"
   ]
  },
  {
   "cell_type": "markdown",
   "id": "94d35cb3",
   "metadata": {},
   "source": [
    "# 3절. 기본 자료형\n",
    "- 자료형: 변수가 가져야 할 값의 형식. 자료형에 따라 값의 범위 달라짐. 자료형에 따라 값의 크기와 저장 방식 달라짐\n",
    "    - e.g a=4 랑 a=4.14 차지하는 메모리가 다를 것 같다. \n",
    "    - 켬퓨터는 2진수. 1, 0. 4는 00000100. 1byte에서 가장 큰 수는 0111 1111 (=121)\n",
    "- 자료형에 따라 수행할 수 있는 명령어들이 달라짐\n",
    "    - `숫자` : int, float(소수점 4.0), complex(허수부 j)\n",
    "    - `문자` : str(\"\", '') #저장할 게 많음. ㅎㅎㅎ/ㅋㅋㅋ처럼 파이썬에 등록되지 않은 단어가 많음.\n",
    "    - `논리` : bool(True/False)\n",
    "\n",
    "## 3.1 숫자형\n",
    "- 파이썬에서 저장되는 젤 큰 숫자는 뭔지\n"
   ]
  },
  {
   "cell_type": "code",
   "execution_count": 37,
   "id": "5b266cfa",
   "metadata": {},
   "outputs": [
    {
     "name": "stdout",
     "output_type": "stream",
     "text": [
      "9223372036854775807\n"
     ]
    }
   ],
   "source": [
    "import sys\n",
    "print(sys.maxsize) #얘가 시스템에서 정수의 최댓값 : 2**63 - 1 \n",
    "#지구에서 안드로메다 거리, 지구-태양 거리. 태양 흙점 개수. 파이썬으로 가능. 어떻게?"
   ]
  },
  {
   "cell_type": "code",
   "execution_count": 38,
   "id": "6a2cfcbc",
   "metadata": {},
   "outputs": [
    {
     "data": {
      "text/plain": [
       "9223372036854775807"
      ]
     },
     "execution_count": 38,
     "metadata": {},
     "output_type": "execute_result"
    }
   ],
   "source": [
    "2**63 - 1 "
   ]
  },
  {
   "cell_type": "code",
   "execution_count": 41,
   "id": "0d7ec95d",
   "metadata": {},
   "outputs": [
    {
     "data": {
      "text/plain": [
       "9223372136854775807"
      ]
     },
     "execution_count": 41,
     "metadata": {},
     "output_type": "execute_result"
    }
   ],
   "source": [
    "i = sys.maxsize + 100000000000\n",
    "i\n",
    "#int 값에 무한대로 들어감."
   ]
  },
  {
   "cell_type": "code",
   "execution_count": 43,
   "id": "d5c678f0",
   "metadata": {},
   "outputs": [
    {
     "name": "stdout",
     "output_type": "stream",
     "text": [
      "9223372136854775807\n",
      "<class 'int'>\n"
     ]
    }
   ],
   "source": [
    "i = sys.maxsize + 100000000000\n",
    "print(i)\n",
    "print(type(i))"
   ]
  },
  {
   "cell_type": "code",
   "execution_count": 44,
   "id": "b68fa27f",
   "metadata": {},
   "outputs": [
    {
     "name": "stdout",
     "output_type": "stream",
     "text": [
      "1.2e-20\n",
      "1.2e+20\n"
     ]
    }
   ],
   "source": [
    "#정말 작은 값도 가능한가\n",
    "# f - 0.0000000000012 이렇게 쓰기보다는\n",
    "f = 1.2e-20 #지수형 1.2*10의 -20승\n",
    "#f는 변수 이름.\n",
    "print(f)\n",
    "b = 1.2e20 #지수형 1.2의 10의 20승\n",
    "print(b)"
   ]
  },
  {
   "cell_type": "code",
   "execution_count": 46,
   "id": "2f17bac6",
   "metadata": {},
   "outputs": [
    {
     "name": "stdout",
     "output_type": "stream",
     "text": [
      "f= 1.5\n"
     ]
    }
   ],
   "source": [
    "#파이썬에서는 /(나누기)의 결과는 무조건 실수. c언어는 3/2는 1로 나온다\n",
    "f = 3/2\n",
    "print('f=', f)"
   ]
  },
  {
   "cell_type": "code",
   "execution_count": 52,
   "id": "2fa4e38f",
   "metadata": {},
   "outputs": [
    {
     "name": "stdout",
     "output_type": "stream",
     "text": [
      "f= 1\n",
      "f= 1\n"
     ]
    }
   ],
   "source": [
    "#만약 정수로 하고 싶다면\n",
    "f = int(3/2) #int() : int로 형변환(내림)\n",
    "print('f=', f)\n",
    "f = 3//2 #몫 연산자\n",
    "print('f=', f)"
   ]
  },
  {
   "cell_type": "markdown",
   "id": "15b45d7e",
   "metadata": {},
   "source": [
    "## 3.2 문자형\n",
    "겹따옴표(\"~\")나 홑따옴표('~') 이용. 둘 다 가능.\n"
   ]
  },
  {
   "cell_type": "code",
   "execution_count": 54,
   "id": "6b93b470",
   "metadata": {},
   "outputs": [],
   "source": [
    "name = '' #이건 0글자짜리 문자형. \"\" 와 아주 똑같다. \n",
    "#근데 가-끔 섞어쓴다. e.g. 홍길동'짱'. 강조하고 싶어서 따옴표 쓰는 경우. 따옴표 안 따옴표"
   ]
  },
  {
   "cell_type": "code",
   "execution_count": 63,
   "id": "462dafed",
   "metadata": {},
   "outputs": [
    {
     "name": "stdout",
     "output_type": "stream",
     "text": [
      "홍길동'짱'\n",
      "홍길동'짱' 서울시 관악구 \"신림\"동\n"
     ]
    }
   ],
   "source": [
    "#name = '홍길동\\'짱\\''\n",
    "#근데 가독성이 떨어짐. \n",
    "name = \"홍길동'짱'\"\n",
    "print(name)\n",
    "address = '서울시 관악구 \"신림\"동'\n",
    "print(name, address)"
   ]
  },
  {
   "cell_type": "code",
   "execution_count": 67,
   "id": "a126866a",
   "metadata": {},
   "outputs": [
    {
     "name": "stdout",
     "output_type": "stream",
     "text": [
      "여러줄\t짜리 내용을 저장\n",
      "줄바꿈 문자를 쓰면 됨\n",
      "줄바꿈\n"
     ]
    }
   ],
   "source": [
    "#escape 문자 (탈출문자) : \\n , \\t, \\r (맨 앞으로)\n",
    "text = '여러줄\\t짜리 내용을 저장\\n줄바꿈 문자를 쓰면 됨\\n줄바꿈'\n",
    "print(text)"
   ]
  },
  {
   "cell_type": "code",
   "execution_count": 70,
   "id": "2ee37e57",
   "metadata": {},
   "outputs": [
    {
     "name": "stdout",
     "output_type": "stream",
     "text": [
      "여러줄\t짜리 내용을 저장\n",
      "줄바꿈 문자를 쓰면 됨\n",
      "줄바꿈\n",
      "\n"
     ]
    }
   ],
   "source": [
    "#하지만 여러줄 문장은\n",
    "\n",
    "text = '''여러줄\\t짜리 내용을 저장\n",
    "줄바꿈 문자를 쓰면 됨\n",
    "줄바꿈\n",
    "'''\n",
    "print(text)"
   ]
  },
  {
   "cell_type": "markdown",
   "id": "91e28501",
   "metadata": {},
   "source": [
    "### ※문자열 연산 (+, *)"
   ]
  },
  {
   "cell_type": "code",
   "execution_count": 72,
   "id": "ab792d82",
   "metadata": {},
   "outputs": [
    {
     "name": "stdout",
     "output_type": "stream",
     "text": [
      "홍길동동에번쩍\n",
      "홍길동 동에번쩍\n"
     ]
    }
   ],
   "source": [
    "'''\n",
    "    여러 줄 주석 용도\n",
    "    2025.09.12 문자열 연산 기능 by 아무개\n",
    "'''\n",
    "#맨날 앞에 샾 붙이기 귀찮으니까. 또, 빨갛게 표현됨. \n",
    "\n",
    "name1 = '홍길동'\n",
    "name2 = '동에번쩍' \n",
    "print(name1 + name2)\n",
    "print(name1, name2)"
   ]
  },
  {
   "cell_type": "code",
   "execution_count": 73,
   "id": "13c4509e",
   "metadata": {},
   "outputs": [
    {
     "name": "stdout",
     "output_type": "stream",
     "text": [
      "홍길동홍길동홍길동\n"
     ]
    }
   ],
   "source": [
    "print(name1 *3)"
   ]
  },
  {
   "cell_type": "markdown",
   "id": "8bdb3e3a",
   "metadata": {},
   "source": [
    "### ※ raw 데이터\n",
    "- 용도 : 정규표현식 이용, 디렉토리 경로를 표현시 이용 e.g. 특정 데이터만 빼내고/없애고 싶을 때. -> 자연어처리할 때 많이 쓰겠죠. \n",
    "- e.g.이메일은 골뱅이 @가 들어가고 중간에 점 들어가야된다. 그런 것들 파악할 때, 정규표현식 이용. 중요. \n"
   ]
  },
  {
   "cell_type": "code",
   "execution_count": 74,
   "id": "14c335e3",
   "metadata": {},
   "outputs": [
    {
     "name": "stdout",
     "output_type": "stream",
     "text": [
      "Hello\n",
      "World\n"
     ]
    }
   ],
   "source": [
    "print('Hello\\nWorld')"
   ]
  },
  {
   "cell_type": "code",
   "execution_count": 78,
   "id": "dac58fbc",
   "metadata": {},
   "outputs": [
    {
     "name": "stdout",
     "output_type": "stream",
     "text": [
      "Hello\\nWorld\n"
     ]
    }
   ],
   "source": [
    "#위를 raw data로 하면\n",
    "print(r'Hello\\nWorld')\n",
    "\n",
    "# raw데이터 : 데이텉 처리시 이스케이프 문자 (\\n, \\t, \\`, \\\")를 그대로 저장"
   ]
  },
  {
   "cell_type": "markdown",
   "id": "4bd498c6",
   "metadata": {},
   "source": [
    "정규표현식(regex)\n",
    "\n",
    "    1. 참조 : https://ko.wikipedia.org/wiki/%EC%A0%95%EA%B7%9C_%ED%91%9C%ED%98%84%EC%8B%9D\n",
    "    2. 간략문법\n",
    "        \\d (숫자와 매치/ [0-9]와 동일) e.g. \\d\\d\\d\n",
    "        \\D (숫자가 아닌 것) \n",
    "        \\w (영문자나 숫자 [a-zA-Z0-9]와 동일)\n",
    "        \\W (영문자나 숫자가 아닌 문자)\n",
    "        .  (아무 문자)\n",
    "        \\. (.)\n",
    "        \\- (-)\n",
    "        {2,} (2번 이상 반복)\n",
    "        {2, 4} (2~4회 반복)  e.g.\\d{2,3}[0-9] \n",
    "        ?      (0번이나 1번 의미)\n",
    "        +  (1번 이상 반복)\n",
    "        *  (0번 이상 반복) (즉, 안 나올 수도 있다는 뜻)\n",
    "        [] (x~z 중 하나)\n",
    "        {} (괄호 안 숫자만큼 반복)\n",
    "    3. 정규표현식 연습장 : https://regexr.com/\n",
    "        e.g 1. 전화번호 : 02 888 7777 / 028887777 / 010-9999-9999 / 010.9999.9999 / 02)999-9999\n",
    "                        => \\d{2,3}[ \\-\\.)]?\\d{3,4}[ \\-\\.]?\\d{4}\n",
    "                        \n",
    "        e.g 2. 이메일 : abc12@naver.com / abc12@sns.co.kr\n",
    "                        => \\w+@\\w+(\\.\\w+){1,2}\n",
    "                      \n",
    "        e.g 3. 주민번호 : 981212-1052525 / 011313-3052525(13월에 태어난, 가짜 주민번호. 얘는 선택 안 되어야함) \n",
    "        - 앞 2글자는 아무거나. 그런데 3,4번째 자리는 0/1 and 1/2, 이런식. \n",
    "                        => (\\d{2}0[1-9][0-3]\\d-[0-4]\\d{6})|(\\d{2}1[0-2][0-3]\\d-[0-4]\\d{6})\n",
    "        \n",
    "    "
   ]
  },
  {
   "cell_type": "code",
   "execution_count": 12,
   "id": "ab8ad41b",
   "metadata": {},
   "outputs": [
    {
     "name": "stdout",
     "output_type": "stream",
     "text": [
      "이름:홍길동, 주소: 서울, 전화:02-888-8888, 핸드폰: 010-9999-9999, 특징: 동에번쩍 서에번쩍혈액형:Bㅋㅋㅋ ㅋㅋzz\n"
     ]
    }
   ],
   "source": [
    "import re\n",
    "#내 컴퓨터에 있는 패키지를 가져온다는 뜻\n",
    "data = \"이름:홍길동, 주소: 서울, 전화:02-888-8888, \\\n",
    "핸드폰: 010-9999-9999, 특징: 동에번쩍 서에번쩍\\\n",
    "혈액형:Bㅋㅋㅋ ㅋㅋzz\"\n",
    "print(data)"
   ]
  },
  {
   "cell_type": "code",
   "execution_count": 84,
   "id": "d58a9eb0",
   "metadata": {},
   "outputs": [
    {
     "data": {
      "text/plain": [
       "['02-888-8888', '010-9999-9999']"
      ]
     },
     "execution_count": 84,
     "metadata": {},
     "output_type": "execute_result"
    }
   ],
   "source": [
    "# 정규표현식으로 전화번호만 뽑기\n",
    "# 정규표현식 처리에서는 raw 데이터 처리를 하지 않아도 실행은 되나\n",
    "# 실수를 줄이고, 가독성을 높이는 용도로 raw 데이터 처리를 사용\n",
    "\n",
    "tel_pattern = r\"0\\d{1,2}[ \\-\\.)]?\\d{3,4}[ \\-\\.]?\\d{4}\"\n",
    "tels = re.findall(tel_pattern, data) #해당 정규표현식 패턴을 다 찾아줌. 없으면 빈 list를 반환한다. \n",
    "tels"
   ]
  },
  {
   "cell_type": "code",
   "execution_count": 87,
   "id": "84c4bd62",
   "metadata": {},
   "outputs": [
    {
     "data": {
      "text/plain": [
       "[]"
      ]
     },
     "execution_count": 87,
     "metadata": {},
     "output_type": "execute_result"
    }
   ],
   "source": [
    "email_pattern = r\"\\w+@\\w+(\\.\\w+){1,2}\"\n",
    "emails = re.findall(email_pattern, data)\n",
    "emails"
   ]
  },
  {
   "cell_type": "code",
   "execution_count": 88,
   "id": "c35718b4",
   "metadata": {},
   "outputs": [
    {
     "data": {
      "text/plain": [
       "<re.Match object; span=(19, 30), match='02-888-8888'>"
      ]
     },
     "execution_count": 88,
     "metadata": {},
     "output_type": "execute_result"
    }
   ],
   "source": [
    "# 정규표현식 패턴과 처음 match되는 것을 찾아줘\n",
    "firstTel = re.search(tel_pattern, data)\n",
    "firstTel"
   ]
  },
  {
   "cell_type": "code",
   "execution_count": 89,
   "id": "b2fa508f",
   "metadata": {},
   "outputs": [
    {
     "data": {
      "text/plain": [
       "'이름:홍길동, 주소: 서울, 전화:02-888-8888, 핸드폰: 010-9999-9999, 특징: 동에번쩍 서에번쩍혈액형:Bㅋㅋㅋ ㅋㅋzz'"
      ]
     },
     "execution_count": 89,
     "metadata": {},
     "output_type": "execute_result"
    }
   ],
   "source": [
    "data"
   ]
  },
  {
   "cell_type": "code",
   "execution_count": 92,
   "id": "c775d5ad",
   "metadata": {},
   "outputs": [
    {
     "name": "stdout",
     "output_type": "stream",
     "text": [
      "02-888-8888\n",
      "02-888-8888\n"
     ]
    }
   ],
   "source": [
    "print(data[19:30]) #문자열 슬라이싱 (선생님 코드는 18-29인데 왜 나는 19-30으로 뜨지)\n",
    "\n",
    "#앞자리부터 하나하나 세면 18번째 숫자, 29번째 숫자\n",
    "\n",
    "print(firstTel.group(0))"
   ]
  },
  {
   "cell_type": "code",
   "execution_count": 97,
   "id": "0d0a49b0",
   "metadata": {},
   "outputs": [
    {
     "data": {
      "text/plain": [
       "<re.Match object; span=(19, 30), match='02-888-8888'>"
      ]
     },
     "execution_count": 97,
     "metadata": {},
     "output_type": "execute_result"
    }
   ],
   "source": [
    "tel_pattern = r\"(\\d{2,3})-(\\d{3,4})-(\\d{4})\"\n",
    "\n",
    "#많이 쓰지는 않고 웹데이터 수집할 대 간혹 쓴다\n",
    "\n",
    "firstPhone = re.search(tel_pattern, data)\n",
    "firstPhone"
   ]
  },
  {
   "cell_type": "code",
   "execution_count": 13,
   "id": "7500f40a",
   "metadata": {},
   "outputs": [
    {
     "ename": "NameError",
     "evalue": "name 'firstPhone' is not defined",
     "output_type": "error",
     "traceback": [
      "\u001b[1;31m---------------------------------------------------------------------------\u001b[0m",
      "\u001b[1;31mNameError\u001b[0m                                 Traceback (most recent call last)",
      "Cell \u001b[1;32mIn[13], line 1\u001b[0m\n\u001b[1;32m----> 1\u001b[0m \u001b[38;5;28mprint\u001b[39m(\u001b[38;5;124m'\u001b[39m\u001b[38;5;124m전체 전화번호 :\u001b[39m\u001b[38;5;124m'\u001b[39m, \u001b[43mfirstPhone\u001b[49m\u001b[38;5;241m.\u001b[39mgroup(\u001b[38;5;241m0\u001b[39m))\n\u001b[0;32m      2\u001b[0m \u001b[38;5;28mprint\u001b[39m(\u001b[38;5;124m'\u001b[39m\u001b[38;5;124m국번 :\u001b[39m\u001b[38;5;124m'\u001b[39m, firstPhone\u001b[38;5;241m.\u001b[39mgroup(\u001b[38;5;241m1\u001b[39m))\n\u001b[0;32m      3\u001b[0m \u001b[38;5;28mprint\u001b[39m(\u001b[38;5;124m'\u001b[39m\u001b[38;5;124m중간번호 :\u001b[39m\u001b[38;5;124m'\u001b[39m, firstPhone\u001b[38;5;241m.\u001b[39mgroup(\u001b[38;5;241m2\u001b[39m))\n",
      "\u001b[1;31mNameError\u001b[0m: name 'firstPhone' is not defined"
     ]
    }
   ],
   "source": [
    "print('전체 전화번호 :', firstPhone.group(0))\n",
    "print('국번 :', firstPhone.group(1))\n",
    "print('중간번호 :', firstPhone.group(2))\n",
    "print('끝번호 :', firstPhone.group(3))"
   ]
  },
  {
   "cell_type": "code",
   "execution_count": 101,
   "id": "e49b2ab6",
   "metadata": {},
   "outputs": [
    {
     "data": {
      "text/plain": [
       "'이름홍길동 주소 서울 전화028888888 핸드폰 01099999999 특징 동에번쩍 서에번쩍혈액형B '"
      ]
     },
     "execution_count": 101,
     "metadata": {},
     "output_type": "execute_result"
    }
   ],
   "source": [
    "# data에서 특정한 데이터 없애기\n",
    "re.sub(\"[^가-힣0-9A-Z\\s]\", '', data)"
   ]
  },
  {
   "cell_type": "code",
   "execution_count": 4,
   "id": "787bc6db",
   "metadata": {},
   "outputs": [
    {
     "ename": "NameError",
     "evalue": "name 're' is not defined",
     "output_type": "error",
     "traceback": [
      "\u001b[1;31m---------------------------------------------------------------------------\u001b[0m",
      "\u001b[1;31mNameError\u001b[0m                                 Traceback (most recent call last)",
      "Cell \u001b[1;32mIn[4], line 4\u001b[0m\n\u001b[0;32m      1\u001b[0m \u001b[38;5;66;03m#9월15일 월요일\u001b[39;00m\n\u001b[0;32m      2\u001b[0m \u001b[38;5;66;03m# data에서 전화번호 없애기\u001b[39;00m\n\u001b[0;32m      3\u001b[0m tel_pattern \u001b[38;5;241m=\u001b[39m \u001b[38;5;124mr\u001b[39m\u001b[38;5;124m\"\u001b[39m\u001b[38;5;124m0\u001b[39m\u001b[38;5;124m\\\u001b[39m\u001b[38;5;124md\u001b[39m\u001b[38;5;124m{\u001b[39m\u001b[38;5;124m1,2}[ \u001b[39m\u001b[38;5;124m\\\u001b[39m\u001b[38;5;124m-\u001b[39m\u001b[38;5;124m\\\u001b[39m\u001b[38;5;124m.)]?\u001b[39m\u001b[38;5;124m\\\u001b[39m\u001b[38;5;124md\u001b[39m\u001b[38;5;124m{\u001b[39m\u001b[38;5;124m3,4}[ \u001b[39m\u001b[38;5;124m\\\u001b[39m\u001b[38;5;124m-\u001b[39m\u001b[38;5;124m\\\u001b[39m\u001b[38;5;124m.]?\u001b[39m\u001b[38;5;124m\\\u001b[39m\u001b[38;5;124md\u001b[39m\u001b[38;5;132;01m{4}\u001b[39;00m\u001b[38;5;124m\"\u001b[39m\n\u001b[1;32m----> 4\u001b[0m \u001b[43mre\u001b[49m\u001b[38;5;241m.\u001b[39msub(tel\u001b[38;5;241m.\u001b[39mpattern, \u001b[38;5;124m'\u001b[39m\u001b[38;5;124m \u001b[39m\u001b[38;5;124m'\u001b[39m, data)\n",
      "\u001b[1;31mNameError\u001b[0m: name 're' is not defined"
     ]
    }
   ],
   "source": [
    "#9월15일 월요일\n",
    "# data에서 전화번호 없애기\n",
    "tel_pattern = r\"0\\d{1,2}[ \\-\\.)]?\\d{3,4}[ \\-\\.]?\\d{4}\"\n",
    "re.sub(tel.pattern, ' ', data)"
   ]
  },
  {
   "cell_type": "code",
   "execution_count": 15,
   "id": "0d126891",
   "metadata": {},
   "outputs": [],
   "source": [
    "#파일 경로\n",
    "file_path = \"C:\\\\AI\\\\source\\\\01_python\\\\data\\\\ch02.txt\"\n",
    "file_path = \"C:/AI/source/01_python/data/ch02.txt\"\n",
    "file_path = r\"C:\\AI\\source\\01_python\\data\\ch02.txt\"\n",
    "# 주로 제일 많이 쓰이는 걸 맨 밑에 둔다\n",
    "#빨대 "
   ]
  },
  {
   "cell_type": "code",
   "execution_count": 16,
   "id": "da277aeb",
   "metadata": {},
   "outputs": [
    {
     "name": "stdout",
     "output_type": "stream",
     "text": [
      "Hello, Python.\n",
      "Hello, World\n"
     ]
    }
   ],
   "source": [
    "file_stream = open(file_path, \"w\")\n",
    "print(\"Hello, Python.\", \"Hello, World\", sep=\"\\n\")\n",
    "print(\"Hello, Python.\", \"Hello, World\", sep=\"\\n\", file=file_stream) #파일 출력\n",
    "file_stream.close() #close 하지 않으면 저장 안 됨"
   ]
  },
  {
   "cell_type": "markdown",
   "id": "27eaa220",
   "metadata": {},
   "source": [
    "### ※문자열 인덱싱\n"
   ]
  },
  {
   "cell_type": "code",
   "execution_count": 17,
   "id": "80cb2f87",
   "metadata": {},
   "outputs": [
    {
     "data": {
      "text/plain": [
       "'0123456789'"
      ]
     },
     "execution_count": 17,
     "metadata": {},
     "output_type": "execute_result"
    }
   ],
   "source": [
    "str_= '0123456789'\n",
    "str_"
   ]
  },
  {
   "cell_type": "code",
   "execution_count": 19,
   "id": "5e1d4caa",
   "metadata": {},
   "outputs": [
    {
     "data": {
      "text/plain": [
       "'0'"
      ]
     },
     "execution_count": 19,
     "metadata": {},
     "output_type": "execute_result"
    }
   ],
   "source": [
    "str_[0]\n",
    "\n",
    "#꺾쇠 괄호는 그 속 숫자만 가져온다."
   ]
  },
  {
   "cell_type": "code",
   "execution_count": 20,
   "id": "c19b7372",
   "metadata": {},
   "outputs": [
    {
     "data": {
      "text/plain": [
       "('0', '2', '9', '7')"
      ]
     },
     "execution_count": 20,
     "metadata": {},
     "output_type": "execute_result"
    }
   ],
   "source": [
    "str_[0], str_[2], str_[-1], str_[-3] #음수인덱싱은 맨 마지막이 -1. 마지막을 -1로 표현한다는 뜻 ."
   ]
  },
  {
   "cell_type": "code",
   "execution_count": 21,
   "id": "5b7d8a5f",
   "metadata": {},
   "outputs": [
    {
     "ename": "IndexError",
     "evalue": "string index out of range",
     "output_type": "error",
     "traceback": [
      "\u001b[1;31m---------------------------------------------------------------------------\u001b[0m",
      "\u001b[1;31mIndexError\u001b[0m                                Traceback (most recent call last)",
      "Cell \u001b[1;32mIn[21], line 1\u001b[0m\n\u001b[1;32m----> 1\u001b[0m \u001b[43mstr_\u001b[49m\u001b[43m[\u001b[49m\u001b[38;5;241;43m10\u001b[39;49m\u001b[43m]\u001b[49m\n",
      "\u001b[1;31mIndexError\u001b[0m: string index out of range"
     ]
    }
   ],
   "source": [
    "str_[10]  #없는 인덱싱은 에러. "
   ]
  },
  {
   "cell_type": "markdown",
   "id": "058253d2",
   "metadata": {},
   "source": [
    "### ※문자열 슬라이싱\n",
    "(인덱싱과 달리 0~0까지 가져오는 기능)"
   ]
  },
  {
   "cell_type": "code",
   "execution_count": 24,
   "id": "307cf461",
   "metadata": {},
   "outputs": [
    {
     "data": {
      "text/plain": [
       "('012', '012')"
      ]
     },
     "execution_count": 24,
     "metadata": {},
     "output_type": "execute_result"
    }
   ],
   "source": [
    "'''\n",
    "문자열변수[from:to] : from부터 to앞까지 추출\n",
    "문자열변수[from:to:step] : from부터 to앞까지 step씩 전진하면서 추출\n",
    "    from 생략 시 처음부터\n",
    "    to 생략 시 끝까지\n",
    "    step 생략 시 1씩 전진\n",
    "'''\n",
    "str_[0:3], str_[:3] #from 생략시 처음부터"
   ]
  },
  {
   "cell_type": "code",
   "execution_count": 22,
   "id": "9b1de9d1",
   "metadata": {},
   "outputs": [
    {
     "data": {
      "text/plain": [
       "'2345'"
      ]
     },
     "execution_count": 22,
     "metadata": {},
     "output_type": "execute_result"
    }
   ],
   "source": [
    "str_[2:6]"
   ]
  },
  {
   "cell_type": "code",
   "execution_count": 23,
   "id": "6c4ec476",
   "metadata": {},
   "outputs": [
    {
     "data": {
      "text/plain": [
       "'02468'"
      ]
     },
     "execution_count": 23,
     "metadata": {},
     "output_type": "execute_result"
    }
   ],
   "source": [
    "str_[0:10:2]"
   ]
  },
  {
   "cell_type": "code",
   "execution_count": 25,
   "id": "a5745de6",
   "metadata": {},
   "outputs": [
    {
     "data": {
      "text/plain": [
       "'5678'"
      ]
     },
     "execution_count": 25,
     "metadata": {},
     "output_type": "execute_result"
    }
   ],
   "source": [
    "str_[-5:-1] #-5번째부터 -1번째 앞까지"
   ]
  },
  {
   "cell_type": "code",
   "execution_count": 26,
   "id": "1d91e02c",
   "metadata": {},
   "outputs": [
    {
     "data": {
      "text/plain": [
       "'987654321'"
      ]
     },
     "execution_count": 26,
     "metadata": {},
     "output_type": "execute_result"
    }
   ],
   "source": [
    "str_[9:0:-1] #9번째 글자(9)부터 0번째 전까지 -1씩 전진하면서 추출하니까 텍스트를 거꾸로 출력. "
   ]
  },
  {
   "cell_type": "code",
   "execution_count": 29,
   "id": "c8dbde36",
   "metadata": {},
   "outputs": [
    {
     "name": "stdout",
     "output_type": "stream",
     "text": [
      "9876543210\n",
      "9876543210\n",
      "9876543210\n"
     ]
    }
   ],
   "source": [
    "#quiz : 마지막 끌씨부터 처음 글씨까지 거꾸로 출력 9876543210 하려면 어떻게 해야할까?\n",
    "\n",
    "print(str_[::-1]) \n",
    "print(str_[9::-1])\n",
    "print(str_[-1::-1])"
   ]
  },
  {
   "cell_type": "markdown",
   "id": "67cdccc1",
   "metadata": {},
   "source": [
    "## 3.3 논리형(True / False) \n",
    "반드시 첫글자는 대문자여야한다!"
   ]
  },
  {
   "cell_type": "code",
   "execution_count": 30,
   "id": "d5bf6db7",
   "metadata": {},
   "outputs": [
    {
     "name": "stdout",
     "output_type": "stream",
     "text": [
      "True\n"
     ]
    }
   ],
   "source": [
    "a = True\n",
    "print(a)"
   ]
  },
  {
   "cell_type": "code",
   "execution_count": 34,
   "id": "e311c521",
   "metadata": {},
   "outputs": [
    {
     "name": "stdout",
     "output_type": "stream",
     "text": [
      "True\n",
      "<class 'bool'>\n",
      "True\n"
     ]
    }
   ],
   "source": [
    "a = 10>5\n",
    "print(a)\n",
    "print(type(a))\n",
    "print(isinstance(a, bool))"
   ]
  },
  {
   "cell_type": "code",
   "execution_count": 36,
   "id": "620a1a92",
   "metadata": {},
   "outputs": [
    {
     "data": {
      "text/plain": [
       "(1, 0)"
      ]
     },
     "execution_count": 36,
     "metadata": {},
     "output_type": "execute_result"
    }
   ],
   "source": [
    "int(True), int(False)"
   ]
  },
  {
   "cell_type": "code",
   "execution_count": 37,
   "id": "0ed6a05b",
   "metadata": {},
   "outputs": [
    {
     "data": {
      "text/plain": [
       "True"
      ]
     },
     "execution_count": 37,
     "metadata": {},
     "output_type": "execute_result"
    }
   ],
   "source": [
    "bool(1)"
   ]
  },
  {
   "cell_type": "code",
   "execution_count": 41,
   "id": "ebd5c43b",
   "metadata": {},
   "outputs": [
    {
     "data": {
      "text/plain": [
       "(True, False, False)"
      ]
     },
     "execution_count": 41,
     "metadata": {},
     "output_type": "execute_result"
    }
   ],
   "source": [
    "bool(-1000), bool(0), bool(\"\")"
   ]
  },
  {
   "cell_type": "code",
   "execution_count": 42,
   "id": "313af90a",
   "metadata": {},
   "outputs": [],
   "source": [
    "# False로 간주되는 것 : 0, \"\"(빈 스트링), [](빈 리스트), ()-빈튜플, None\n",
    "# False로 반별되는 경우를 제외하고는 모두 True"
   ]
  },
  {
   "cell_type": "code",
   "execution_count": 44,
   "id": "be98b9e2",
   "metadata": {},
   "outputs": [],
   "source": [
    "# a = [10, 20] #a에 10도 저장하고 20도 저장한다는 뜻 \n",
    "# a = (10, 20)"
   ]
  },
  {
   "cell_type": "code",
   "execution_count": 45,
   "id": "3808677b",
   "metadata": {},
   "outputs": [],
   "source": [
    "person = {'name' : '홍길동', 'score':99}"
   ]
  },
  {
   "cell_type": "code",
   "execution_count": 46,
   "id": "5131a704",
   "metadata": {},
   "outputs": [
    {
     "name": "stdout",
     "output_type": "stream",
     "text": [
      "False\n"
     ]
    }
   ],
   "source": [
    "#if 10>5:\n",
    "    #조건이 만족하면 수행하라는 뜻.\n",
    "    \n",
    "if[]:\n",
    "    print(\"True\")\n",
    "else:\n",
    "    print('False')"
   ]
  },
  {
   "cell_type": "code",
   "execution_count": 49,
   "id": "868e7359",
   "metadata": {},
   "outputs": [
    {
     "name": "stdout",
     "output_type": "stream",
     "text": [
      "이름은?\n",
      "이름을 입력 안 하셨군요\n"
     ]
    }
   ],
   "source": [
    "name = input(\"이름은?\")\n",
    "if name: #name이 빈스트링이 아니면 if문을 실행하겠다는 소리\n",
    "    print('당신 이름은', name)\n",
    "else:\n",
    "    print('이름을 입력 안 하셨군요')"
   ]
  },
  {
   "cell_type": "markdown",
   "id": "447bece7",
   "metadata": {},
   "source": [
    "## 3.4 자료형 확인 및 형변환 함수\n",
    "- Type(변수), \n",
    "- isinstance(변수, 타입)ㅣ 변수가 해당 타입인지 여부.\n",
    "- float() : 실수형으로 변환\n",
    "- int()   : 정수형으로 변환\n",
    "- str()   : 문자형으로\n",
    "- bool()  : 논리형으로"
   ]
  },
  {
   "cell_type": "code",
   "execution_count": 51,
   "id": "70f21398",
   "metadata": {},
   "outputs": [
    {
     "data": {
      "text/plain": [
       "(4.0, 4.1, 4, 4, '4', '4.9')"
      ]
     },
     "execution_count": 51,
     "metadata": {},
     "output_type": "execute_result"
    }
   ],
   "source": [
    "float(4), float(\"4.1\"), int(4.9), int(\"4\"), str(4), str(4.9)"
   ]
  },
  {
   "cell_type": "code",
   "execution_count": 52,
   "id": "d0901370",
   "metadata": {},
   "outputs": [
    {
     "ename": "ValueError",
     "evalue": "invalid literal for int() with base 10: '123.9'",
     "output_type": "error",
     "traceback": [
      "\u001b[1;31m---------------------------------------------------------------------------\u001b[0m",
      "\u001b[1;31mValueError\u001b[0m                                Traceback (most recent call last)",
      "Cell \u001b[1;32mIn[52], line 3\u001b[0m\n\u001b[0;32m      1\u001b[0m \u001b[38;5;66;03m#에러가 나는 경우들\u001b[39;00m\n\u001b[0;32m      2\u001b[0m \u001b[38;5;66;03m# int(\"\"), int(\"\"), int(None)\u001b[39;00m\n\u001b[1;32m----> 3\u001b[0m \u001b[38;5;28;43mint\u001b[39;49m\u001b[43m(\u001b[49m\u001b[38;5;124;43m\"\u001b[39;49m\u001b[38;5;124;43m123.9\u001b[39;49m\u001b[38;5;124;43m\"\u001b[39;49m\u001b[43m)\u001b[49m \u001b[38;5;66;03m# 정수로 못 바뀔 아이를 정수로 만들라니까 에러남.\u001b[39;00m\n\u001b[0;32m      4\u001b[0m \u001b[38;5;28mint\u001b[39m(\u001b[38;5;124m\"\u001b[39m\u001b[38;5;124m9,000\u001b[39m\u001b[38;5;124m\"\u001b[39m)\n",
      "\u001b[1;31mValueError\u001b[0m: invalid literal for int() with base 10: '123.9'"
     ]
    }
   ],
   "source": [
    "#에러가 나는 경우들\n",
    "# int(\"\"), int(\"\"), int(None)\n",
    "# float(\"\"), float(\" \"), float(None)\n",
    "\n",
    "int(\"123.9\") # 정수로 못 바뀔 아이를 정수로 만들라니까 에러남.\n",
    "int(\"9,000\")"
   ]
  },
  {
   "cell_type": "markdown",
   "id": "0496c0c3",
   "metadata": {},
   "source": [
    "# 4절. 포맷팅\n",
    "- 포맷팅이란 출력할 문자, 숫자, 날짜 형식을 지정하는 것\n",
    "## 4.1 문자열에 형식 지정"
   ]
  },
  {
   "cell_type": "code",
   "execution_count": 56,
   "id": "61efeb4e",
   "metadata": {},
   "outputs": [
    {
     "name": "stdout",
     "output_type": "stream",
     "text": [
      "홍길동님의 나이는30살 입니다\n",
      "홍길동님의 나이는30살 입니다\n"
     ]
    }
   ],
   "source": [
    "name = \"홍길동\"\n",
    "age = 30\n",
    "# print(name + '님의 나이는' + age + '살 입니다')\n",
    "print(name + '님의 나이는' + str(age) + '살 입니다')\n",
    "# 문자 더하기 숫자를 해서 안 되는 것\n",
    "print(name, '님의 나이는', age, '살 입니다', sep='')"
   ]
  },
  {
   "cell_type": "code",
   "execution_count": 58,
   "id": "8fe5b37a",
   "metadata": {},
   "outputs": [
    {
     "name": "stdout",
     "output_type": "stream",
     "text": [
      "홍길동님의 나이는 30살 입니다\n"
     ]
    }
   ],
   "source": [
    "# 제일 안 쓰는 방법\n",
    "# %s: 문자, %dL10진수, %f:실수\n",
    "print(\"%s님의 나이는 %d살 입니다\"%(name, age)) #올드한 방법. 굳이?\n",
    "print(f\"{name}님의 나이는 {age}살입니다\") #요즘 쓰는 방법(?)"
   ]
  },
  {
   "cell_type": "code",
   "execution_count": 61,
   "id": "fa28dd86",
   "metadata": {},
   "outputs": [
    {
     "name": "stdout",
     "output_type": "stream",
     "text": [
      "홍길동님의 나이는 30살입니다\n",
      "홍길동님의 나이는 30살입니다\n",
      "  홍길동님의 나이는 30$살입니다\n"
     ]
    }
   ],
   "source": [
    "print(\"{}님의 나이는 {}살입니다\".format(name, age))\n",
    "print(\"{0}님의 나이는 {1}살입니다\".format(name, age))\n",
    "print(\"{1:>5s}님의 나이는 {0:$<3d}살입니다\".format(age, name))"
   ]
  },
  {
   "cell_type": "markdown",
   "id": "19696f63",
   "metadata": {},
   "source": [
    "## 4.2 format() 문법\n",
    "- '{[인덱스]:[공백대체문자][정렬방식][자릿수][타입]}'.format(변수명) \n",
    "    * 인덱스란  0이 첫번째라는 뜻\n",
    "    * 인덱스 : format 함수 안의 매개변수 순서\n",
    "    * 정렬방식 : <(왼쪽정렬), >(오른쪽정렬), ^(가운데정렬)\n",
    "    * 정수자릿수 : 출력할 자릿수\n",
    "    * 실수자릿수: 전체출력될자리수.변수중에 출력할 자리수\n",
    "    * 타입 : d(10진수), 0(8진수), x(16진수), b(2진수), f(실수), s(문자)\n",
    "    * 공백대체문자는 정렬방식을 명시하여야 함. \n",
    "    "
   ]
  },
  {
   "cell_type": "code",
   "execution_count": 67,
   "id": "c9cae9ea",
   "metadata": {},
   "outputs": [
    {
     "name": "stdout",
     "output_type": "stream",
     "text": [
      "[12345] [     12345] [12345]\n",
      "[Hello] [Hello     ] [Hello]\n"
     ]
    }
   ],
   "source": [
    "#숫자의 경우 오른쪽 정렬이 기본\n",
    "# 문자의 경우 왼쪽 정렬이 기본\n",
    "# 변수보다 작은 작은 자리수를 지정하면 자릿수 무시되고 다 출력\n",
    "a = 12345\n",
    "s = 'Hello'\n",
    "print(\"[{0}] [{0:10}] [{0:3}]\".format(a))\n",
    "print(\"[{0}] [{0:10}] [{0:3}]\".format(s))"
   ]
  },
  {
   "cell_type": "code",
   "execution_count": 69,
   "id": "0740775c",
   "metadata": {},
   "outputs": [
    {
     "name": "stdout",
     "output_type": "stream",
     "text": [
      "[  10] [ 20 ] [   3]\n"
     ]
    }
   ],
   "source": [
    "# 정렬방식 : <, ^, >\n",
    "a, b, c = 10, 20, 3\n",
    "a = 10\n",
    "b = 20\n",
    "c = 3\n",
    "print(\"[{:>4}] [{:^4}] [{:>4}]\".format(a, b, c))"
   ]
  },
  {
   "cell_type": "code",
   "execution_count": 74,
   "id": "3dd7b4b1",
   "metadata": {},
   "outputs": [
    {
     "name": "stdout",
     "output_type": "stream",
     "text": [
      "[$$$$$$$$10] [ 12.57]\n",
      "[$10.00] [ 12.57] [He____]\n"
     ]
    }
   ],
   "source": [
    "# 실수 자릿수 e.g. 10.2\n",
    "a= 10\n",
    "f= 12.569\n",
    "s= \"Hello\"\n",
    "print(\"[{:$>10}] [{:6.2f}]\".format(a, f, s))\n",
    "print(\"[{:$>6.2f}] [{:6.2f}] [{:_<6.2}]\".format(a, f, s))\n",
    "# 공백대체문자를 쓸 경우 반드시 정렬방식을 표현\n"
   ]
  },
  {
   "cell_type": "code",
   "execution_count": 77,
   "id": "7206269c",
   "metadata": {},
   "outputs": [
    {
     "name": "stdout",
     "output_type": "stream",
     "text": [
      "[      +123], [      -123], [       123]\n",
      "[       123], [-      123], [       123]\n",
      "[+      123], [-      123], [       123]\n"
     ]
    }
   ],
   "source": [
    "# 자리수앞에 +를 붙이면 양수의 경우도 부호 출력\n",
    "# 부호나 소수점도 자리수에 포함\n",
    "a, b = 123, -123 \n",
    "print(\"[{:+10}], [{:+10}], [{:10}]\".format(a, b, a))\n",
    "print(\"[{:=10}], [{:=10}], [{:10}]\".format(a, b, a))\n",
    "print(\"[{:=+10}], [{:=+10}], [{:10}]\".format(a, b, a))"
   ]
  },
  {
   "cell_type": "code",
   "execution_count": 80,
   "id": "94b1dcc8",
   "metadata": {},
   "outputs": [
    {
     "name": "stdout",
     "output_type": "stream",
     "text": [
      "10진수 [  15]\n",
      "8 진수 [  17]\n",
      "16진수 [   f]\n",
      "2 진수 [1111]\n"
     ]
    }
   ],
   "source": [
    "#10진수, 8진수, 16진수, 2진수 출력\n",
    "a = 15\n",
    "print(\"10진수 [{:4d}]\".format(a))\n",
    "print(\"8 진수 [{:4o}]\".format(a))\n",
    "print(\"16진수 [{:4x}]\".format(a))\n",
    "print(\"2 진수 [{:4b}]\".format(a))"
   ]
  },
  {
   "cell_type": "code",
   "execution_count": 83,
   "id": "c2330c73",
   "metadata": {},
   "outputs": [
    {
     "name": "stdout",
     "output_type": "stream",
     "text": [
      "[2.785]\n",
      "[   +2.7850]\n",
      "[    +2.785]\n"
     ]
    }
   ],
   "source": [
    "a = 2.785\n",
    "print(\"[{}]\".format(a))\n",
    "print(\"[{:+10.4f}]\".format(a))\n",
    "print(\"[{:+10.4}]\".format(a))"
   ]
  },
  {
   "cell_type": "code",
   "execution_count": 87,
   "id": "dc919cb5",
   "metadata": {
    "scrolled": true
   },
   "outputs": [
    {
     "name": "stdout",
     "output_type": "stream",
     "text": [
      "[    +2.785]\n",
      "[    +2.785]\n"
     ]
    }
   ],
   "source": [
    "a = 2.785\n",
    "sign = \"+\"\n",
    "width = 10\n",
    "precision = 4\n",
    "print(\"[{:{}{}.{}}]\".format(a, sign, width, precision))\n",
    "print(\"[{:{sign}{width}.{precision}}]\".format(a, sign=sign, width=width, precision=precision))"
   ]
  },
  {
   "cell_type": "code",
   "execution_count": 88,
   "id": "3f4e352b",
   "metadata": {},
   "outputs": [
    {
     "data": {
      "text/plain": [
       "'C:\\\\Users\\\\Admin\\\\anaconda3\\\\lib\\\\datetime.py'"
      ]
     },
     "execution_count": 88,
     "metadata": {},
     "output_type": "execute_result"
    }
   ],
   "source": [
    "import datetime\n",
    "datetime.__file__"
   ]
  },
  {
   "cell_type": "code",
   "execution_count": 94,
   "id": "9697aa8d",
   "metadata": {},
   "outputs": [
    {
     "data": {
      "text/plain": [
       "datetime.datetime(2025, 9, 11, 0, 0)"
      ]
     },
     "execution_count": 94,
     "metadata": {},
     "output_type": "execute_result"
    }
   ],
   "source": [
    "# import datetime # datetime모듈(파이썬 프로그램파일 datetime.py) 전체를 메모리 load\n",
    "from datetime import datetime #datetime 모듈 안의 datetime 만 메모리 load\n",
    "# thatday = 10 #10을 넣으면 숫자변수, \"10\"을 넣으면 문자변수 \n",
    "thatday1 = datetime(2025, 9, 11) # 25년 9월 11일 0시0분0초\n",
    "thatday2 = datetime(2025, 9, 11, 14, 30, 0)\n",
    "thatday1\n"
   ]
  },
  {
   "cell_type": "code",
   "execution_count": 95,
   "id": "0f940d5e",
   "metadata": {},
   "outputs": [
    {
     "name": "stdout",
     "output_type": "stream",
     "text": [
      "25년 09월 11일 00시 00분 00초\n"
     ]
    }
   ],
   "source": [
    "# Y(년도 4자리), y(년도 2자리) m월d일p(am/pm)(12시간) H(12시간) M(분) S초\n",
    "print(\"{:%y년 %m월 %d일 %H시 %M분 %S초}\".format(thatday1))\n",
    "print(\"{:%y년 %m월 %d일 %H시 %M분 %S초}\".format(thatday1))"
   ]
  },
  {
   "cell_type": "code",
   "execution_count": 96,
   "id": "f0661633",
   "metadata": {},
   "outputs": [
    {
     "data": {
      "text/plain": [
       "'25년 09월 11일 00시 00분 00초'"
      ]
     },
     "execution_count": 96,
     "metadata": {},
     "output_type": "execute_result"
    }
   ],
   "source": [
    "thatday1.strftime(\"%y년 %m월 %d일 %H시 %M분 %S초\")"
   ]
  },
  {
   "cell_type": "code",
   "execution_count": 102,
   "id": "149ed5ad",
   "metadata": {},
   "outputs": [
    {
     "data": {
      "text/plain": [
       "'25년 09월 11일 PM 02시 30분 00초'"
      ]
     },
     "execution_count": 102,
     "metadata": {},
     "output_type": "execute_result"
    }
   ],
   "source": [
    "thatday2.strftime(\"%y년 %m월 %d일 %p %I시 %M분 %S초\")"
   ]
  },
  {
   "cell_type": "code",
   "execution_count": 103,
   "id": "1669ace4",
   "metadata": {},
   "outputs": [
    {
     "data": {
      "text/plain": [
       "datetime.timedelta(days=4, seconds=54182, microseconds=820337)"
      ]
     },
     "execution_count": 103,
     "metadata": {},
     "output_type": "execute_result"
    }
   ],
   "source": [
    "#현재의 날짜와 시간\n",
    "#datetime(2025, 9, 11, 14, 30): 특정한 날짜와 시간\n",
    "now = datetime.now() #지금\n",
    "now - thatday1 #날짜형 변수끼리 연산 가능"
   ]
  },
  {
   "cell_type": "code",
   "execution_count": 105,
   "id": "d4bb4fbf",
   "metadata": {},
   "outputs": [
    {
     "name": "stdout",
     "output_type": "stream",
     "text": [
      "2025-09-15 PM 03:03\n",
      "2025-09-15 PM 03:03\n"
     ]
    }
   ],
   "source": [
    "# 지금(날짜와 시간) 원하는 스타일로 출력\n",
    "print(\"{:%Y-%m-%d %p %I:%M}\".format(now))\n",
    "print(now.strftime(\"%Y-%m-%d %p %I:%M\"))"
   ]
  },
  {
   "cell_type": "code",
   "execution_count": 106,
   "id": "77f64859",
   "metadata": {},
   "outputs": [
    {
     "data": {
      "text/plain": [
       "'2025-09-15 PM 03:03'"
      ]
     },
     "execution_count": 106,
     "metadata": {},
     "output_type": "execute_result"
    }
   ],
   "source": [
    "# 지금을 문자열로 전환하는 함수\n",
    "from time import strftime\n",
    "strftime(\"%Y-%m-%d %p %I:%M\")"
   ]
  },
  {
   "cell_type": "code",
   "execution_count": null,
   "id": "c0b9293e",
   "metadata": {},
   "outputs": [],
   "source": []
  },
  {
   "cell_type": "code",
   "execution_count": null,
   "id": "ba3038b7",
   "metadata": {},
   "outputs": [],
   "source": []
  },
  {
   "cell_type": "code",
   "execution_count": null,
   "id": "e7516997",
   "metadata": {},
   "outputs": [],
   "source": []
  },
  {
   "cell_type": "code",
   "execution_count": null,
   "id": "9d04a7fe",
   "metadata": {},
   "outputs": [],
   "source": []
  },
  {
   "cell_type": "code",
   "execution_count": null,
   "id": "ec5cd8ee",
   "metadata": {},
   "outputs": [],
   "source": []
  },
  {
   "cell_type": "code",
   "execution_count": null,
   "id": "389da9de",
   "metadata": {},
   "outputs": [],
   "source": []
  },
  {
   "cell_type": "code",
   "execution_count": null,
   "id": "2fbdd661",
   "metadata": {},
   "outputs": [],
   "source": []
  },
  {
   "cell_type": "code",
   "execution_count": null,
   "id": "e81d0df3",
   "metadata": {},
   "outputs": [],
   "source": []
  },
  {
   "cell_type": "code",
   "execution_count": null,
   "id": "96385fcc",
   "metadata": {},
   "outputs": [],
   "source": []
  },
  {
   "cell_type": "code",
   "execution_count": null,
   "id": "f68ef7c3",
   "metadata": {},
   "outputs": [],
   "source": []
  },
  {
   "cell_type": "code",
   "execution_count": null,
   "id": "9656e969",
   "metadata": {},
   "outputs": [],
   "source": []
  },
  {
   "cell_type": "code",
   "execution_count": null,
   "id": "a9b4ab1c",
   "metadata": {},
   "outputs": [],
   "source": []
  },
  {
   "cell_type": "code",
   "execution_count": null,
   "id": "fef93aac",
   "metadata": {},
   "outputs": [],
   "source": []
  },
  {
   "cell_type": "code",
   "execution_count": null,
   "id": "90ff3ed2",
   "metadata": {},
   "outputs": [],
   "source": []
  },
  {
   "cell_type": "code",
   "execution_count": null,
   "id": "80f3327b",
   "metadata": {},
   "outputs": [],
   "source": []
  },
  {
   "cell_type": "code",
   "execution_count": null,
   "id": "5f4ee0fd",
   "metadata": {},
   "outputs": [],
   "source": []
  },
  {
   "cell_type": "code",
   "execution_count": null,
   "id": "fb2f477b",
   "metadata": {},
   "outputs": [],
   "source": []
  },
  {
   "cell_type": "code",
   "execution_count": null,
   "id": "5af99ff5",
   "metadata": {},
   "outputs": [],
   "source": []
  },
  {
   "cell_type": "code",
   "execution_count": null,
   "id": "5c2c967f",
   "metadata": {},
   "outputs": [],
   "source": []
  },
  {
   "cell_type": "code",
   "execution_count": null,
   "id": "0f5ef302",
   "metadata": {},
   "outputs": [],
   "source": []
  },
  {
   "cell_type": "code",
   "execution_count": null,
   "id": "05f01a9b",
   "metadata": {},
   "outputs": [],
   "source": []
  },
  {
   "cell_type": "code",
   "execution_count": null,
   "id": "a65cef8b",
   "metadata": {},
   "outputs": [],
   "source": []
  },
  {
   "cell_type": "code",
   "execution_count": null,
   "id": "d47e33f7",
   "metadata": {},
   "outputs": [],
   "source": []
  },
  {
   "cell_type": "code",
   "execution_count": null,
   "id": "657515a6",
   "metadata": {},
   "outputs": [],
   "source": []
  },
  {
   "cell_type": "code",
   "execution_count": null,
   "id": "3fcb274b",
   "metadata": {},
   "outputs": [],
   "source": []
  },
  {
   "cell_type": "code",
   "execution_count": null,
   "id": "003b25a3",
   "metadata": {},
   "outputs": [],
   "source": []
  },
  {
   "cell_type": "code",
   "execution_count": null,
   "id": "c141c6b2",
   "metadata": {},
   "outputs": [],
   "source": []
  },
  {
   "cell_type": "code",
   "execution_count": null,
   "id": "3883fc02",
   "metadata": {},
   "outputs": [],
   "source": []
  },
  {
   "cell_type": "code",
   "execution_count": null,
   "id": "2a0c9902",
   "metadata": {},
   "outputs": [],
   "source": []
  },
  {
   "cell_type": "code",
   "execution_count": null,
   "id": "285bc7b4",
   "metadata": {},
   "outputs": [],
   "source": []
  },
  {
   "cell_type": "code",
   "execution_count": null,
   "id": "ec99faf6",
   "metadata": {},
   "outputs": [],
   "source": []
  },
  {
   "cell_type": "code",
   "execution_count": null,
   "id": "3ac1caf4",
   "metadata": {},
   "outputs": [],
   "source": []
  },
  {
   "cell_type": "code",
   "execution_count": null,
   "id": "baf95609",
   "metadata": {},
   "outputs": [],
   "source": []
  },
  {
   "cell_type": "code",
   "execution_count": null,
   "id": "4043f815",
   "metadata": {},
   "outputs": [],
   "source": []
  },
  {
   "cell_type": "code",
   "execution_count": null,
   "id": "132c8fff",
   "metadata": {},
   "outputs": [],
   "source": []
  },
  {
   "cell_type": "code",
   "execution_count": null,
   "id": "1b10f2ad",
   "metadata": {},
   "outputs": [],
   "source": []
  },
  {
   "cell_type": "code",
   "execution_count": null,
   "id": "32a617e0",
   "metadata": {},
   "outputs": [],
   "source": []
  },
  {
   "cell_type": "code",
   "execution_count": null,
   "id": "4d7677bc",
   "metadata": {},
   "outputs": [],
   "source": []
  },
  {
   "cell_type": "code",
   "execution_count": null,
   "id": "62290515",
   "metadata": {},
   "outputs": [],
   "source": []
  },
  {
   "cell_type": "code",
   "execution_count": null,
   "id": "0a8cfa90",
   "metadata": {},
   "outputs": [],
   "source": []
  },
  {
   "cell_type": "code",
   "execution_count": null,
   "id": "bfba3f95",
   "metadata": {},
   "outputs": [],
   "source": []
  },
  {
   "cell_type": "code",
   "execution_count": null,
   "id": "cba15dcb",
   "metadata": {},
   "outputs": [],
   "source": []
  },
  {
   "cell_type": "code",
   "execution_count": null,
   "id": "aa1027fb",
   "metadata": {},
   "outputs": [],
   "source": []
  },
  {
   "cell_type": "code",
   "execution_count": null,
   "id": "6500d943",
   "metadata": {},
   "outputs": [],
   "source": []
  },
  {
   "cell_type": "code",
   "execution_count": null,
   "id": "9f40ce5b",
   "metadata": {},
   "outputs": [],
   "source": []
  },
  {
   "cell_type": "code",
   "execution_count": null,
   "id": "34cdd252",
   "metadata": {},
   "outputs": [],
   "source": []
  },
  {
   "cell_type": "code",
   "execution_count": null,
   "id": "6801ff13",
   "metadata": {},
   "outputs": [],
   "source": []
  },
  {
   "cell_type": "code",
   "execution_count": null,
   "id": "016c776e",
   "metadata": {},
   "outputs": [],
   "source": []
  },
  {
   "cell_type": "code",
   "execution_count": null,
   "id": "3ba9b7fc",
   "metadata": {},
   "outputs": [],
   "source": []
  },
  {
   "cell_type": "code",
   "execution_count": null,
   "id": "111bfbe1",
   "metadata": {},
   "outputs": [],
   "source": []
  },
  {
   "cell_type": "code",
   "execution_count": null,
   "id": "8e1c8e4a",
   "metadata": {},
   "outputs": [],
   "source": []
  },
  {
   "cell_type": "code",
   "execution_count": null,
   "id": "28fffdd0",
   "metadata": {},
   "outputs": [],
   "source": []
  },
  {
   "cell_type": "code",
   "execution_count": null,
   "id": "db652d40",
   "metadata": {},
   "outputs": [],
   "source": []
  },
  {
   "cell_type": "code",
   "execution_count": null,
   "id": "ccbfc87d",
   "metadata": {},
   "outputs": [],
   "source": []
  },
  {
   "cell_type": "code",
   "execution_count": null,
   "id": "d2c5d09f",
   "metadata": {},
   "outputs": [],
   "source": []
  },
  {
   "cell_type": "code",
   "execution_count": null,
   "id": "72366ad4",
   "metadata": {},
   "outputs": [],
   "source": []
  },
  {
   "cell_type": "code",
   "execution_count": null,
   "id": "14ea791c",
   "metadata": {},
   "outputs": [],
   "source": []
  },
  {
   "cell_type": "code",
   "execution_count": null,
   "id": "f773eead",
   "metadata": {},
   "outputs": [],
   "source": []
  },
  {
   "cell_type": "code",
   "execution_count": null,
   "id": "15691aba",
   "metadata": {},
   "outputs": [],
   "source": []
  },
  {
   "cell_type": "code",
   "execution_count": null,
   "id": "93335fa3",
   "metadata": {},
   "outputs": [],
   "source": []
  },
  {
   "cell_type": "code",
   "execution_count": null,
   "id": "1f2353dc",
   "metadata": {},
   "outputs": [],
   "source": []
  },
  {
   "cell_type": "code",
   "execution_count": null,
   "id": "493c0ad7",
   "metadata": {},
   "outputs": [],
   "source": []
  },
  {
   "cell_type": "code",
   "execution_count": null,
   "id": "c6d6f422",
   "metadata": {},
   "outputs": [],
   "source": []
  },
  {
   "cell_type": "code",
   "execution_count": null,
   "id": "a8360fe4",
   "metadata": {},
   "outputs": [],
   "source": []
  },
  {
   "cell_type": "code",
   "execution_count": null,
   "id": "b5ca104b",
   "metadata": {},
   "outputs": [],
   "source": []
  },
  {
   "cell_type": "code",
   "execution_count": null,
   "id": "09996635",
   "metadata": {},
   "outputs": [],
   "source": []
  },
  {
   "cell_type": "code",
   "execution_count": null,
   "id": "80891470",
   "metadata": {},
   "outputs": [],
   "source": []
  },
  {
   "cell_type": "code",
   "execution_count": null,
   "id": "7f12c8ca",
   "metadata": {},
   "outputs": [],
   "source": []
  },
  {
   "cell_type": "code",
   "execution_count": null,
   "id": "63df8382",
   "metadata": {},
   "outputs": [],
   "source": []
  },
  {
   "cell_type": "code",
   "execution_count": null,
   "id": "15173094",
   "metadata": {},
   "outputs": [],
   "source": []
  },
  {
   "cell_type": "code",
   "execution_count": null,
   "id": "f05ceaed",
   "metadata": {},
   "outputs": [],
   "source": []
  },
  {
   "cell_type": "code",
   "execution_count": null,
   "id": "eb36be97",
   "metadata": {},
   "outputs": [],
   "source": []
  },
  {
   "cell_type": "code",
   "execution_count": null,
   "id": "a1307a74",
   "metadata": {},
   "outputs": [],
   "source": []
  },
  {
   "cell_type": "code",
   "execution_count": null,
   "id": "d92f7f78",
   "metadata": {},
   "outputs": [],
   "source": []
  }
 ],
 "metadata": {
  "kernelspec": {
   "display_name": "Python 3 (ipykernel)",
   "language": "python",
   "name": "python3"
  },
  "language_info": {
   "codemirror_mode": {
    "name": "ipython",
    "version": 3
   },
   "file_extension": ".py",
   "mimetype": "text/x-python",
   "name": "python",
   "nbconvert_exporter": "python",
   "pygments_lexer": "ipython3",
   "version": "3.10.9"
  },
  "toc": {
   "base_numbering": 1,
   "nav_menu": {},
   "number_sections": false,
   "sideBar": true,
   "skip_h1_title": false,
   "title_cell": "Table of Contents",
   "title_sidebar": "Contents",
   "toc_cell": false,
   "toc_position": {
    "height": "calc(100% - 180px)",
    "left": "10px",
    "top": "150px",
    "width": "382px"
   },
   "toc_section_display": true,
   "toc_window_display": true
  }
 },
 "nbformat": 4,
 "nbformat_minor": 5
}

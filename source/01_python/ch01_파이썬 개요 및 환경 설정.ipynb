{
 "cells": [
  {
   "cell_type": "code",
   "execution_count": 1,
   "id": "8c80a6fc",
   "metadata": {},
   "outputs": [
    {
     "name": "stdout",
     "output_type": "stream",
     "text": [
      "hello\n"
     ]
    }
   ],
   "source": [
    "print('hello')"
   ]
  },
  {
   "cell_type": "code",
   "execution_count": 1,
   "id": "ec8ff71c",
   "metadata": {},
   "outputs": [
    {
     "data": {
      "text/html": [
       "\n",
       "<style>\n",
       "div.container{width:90% !important;}\n",
       "div.cell.code_cell.rendered{width:100%;}\n",
       "div.input_prompt{padding:0px;}\n",
       "div.CodeMirror {font-family:Consolas; font-size:12pt;}\n",
       "div.text_cell_render.rendered_html{font-size:12pt;}\n",
       "div.output {font-size:12pt; font-weight:bold;}\n",
       "div.input {font-family:Consolas; font-size:12pt;}\n",
       "div.prompt {min-width:70px;}\n",
       "div#toc-wrapper{padding-top:120px;}\n",
       "div.text_cell_render ul li{font-size:12pt;padding:5px;}\n",
       "table.dataframe{font-size:12px;}\n",
       "</style>\n"
      ],
      "text/plain": [
       "<IPython.core.display.HTML object>"
      ]
     },
     "metadata": {},
     "output_type": "display_data"
    }
   ],
   "source": [
    "from IPython.display import display, HTML\n",
    "display(HTML(\"\"\"\n",
    "<style>\n",
    "div.container{width:90% !important;}\n",
    "div.cell.code_cell.rendered{width:100%;}\n",
    "div.input_prompt{padding:0px;}\n",
    "div.CodeMirror {font-family:Consolas; font-size:12pt;}\n",
    "div.text_cell_render.rendered_html{font-size:12pt;}\n",
    "div.output {font-size:12pt; font-weight:bold;}\n",
    "div.input {font-family:Consolas; font-size:12pt;}\n",
    "div.prompt {min-width:70px;}\n",
    "div#toc-wrapper{padding-top:120px;}\n",
    "div.text_cell_render ul li{font-size:12pt;padding:5px;}\n",
    "table.dataframe{font-size:12px;}\n",
    "</style>\n",
    "\"\"\"))"
   ]
  },
  {
   "cell_type": "markdown",
   "id": "af659514",
   "metadata": {},
   "source": [
    "<b><font size=\"6\" color=\"red\">ch01. 파이썬 개요 및 환경 설정</font></b>\n",
    "\n",
    "# 1. 마크다운이란?\n",
    "- 코드와 함께 문서화를 할 수 있다.\n",
    "- 다양한 문서화 문법 e.g.README.md\n",
    "- 분리기능\n",
    "\n",
    "# 2. 주피터 노트북 사용법 \n",
    "- shift+Enter : 포커스된 셀이 실행되고, 커서가 다음셀로 이동\n",
    "- alt+Enter : 얘도 실행. 근데 밑에 무조건 빈 셀이 추가되고 포커싱이 이동. (포커스된 셀이 실행되고, 다음셀이 생성된 후, 다음셀로 이동)\n",
    "- cltr+Enter : 포커스된 셀이 실행되고, 포커스 이동이 없음\n",
    "- Enter : 다시 편집 상태로 돌아감"
   ]
  },
  {
   "cell_type": "code",
   "execution_count": null,
   "id": "fc81243e",
   "metadata": {},
   "outputs": [],
   "source": [
    "# 셀 하나하나에 파이썬 소스 입력 -> 실행"
   ]
  },
  {
   "cell_type": "code",
   "execution_count": 4,
   "id": "b8d70f1b",
   "metadata": {},
   "outputs": [
    {
     "name": "stdout",
     "output_type": "stream",
     "text": [
      "Hello, Python\n",
      "홍길동\n"
     ]
    }
   ],
   "source": [
    "# print()함수를 이용해서 출력\n",
    "# print('Hello, Python')\n",
    "# print('홍길동')\n",
    "# 어 근데 출력 안 하고 보류하고 싶으면 블럭 잡아놓고 ctrl+/ 하면 블럭주석 토글(뜻: 되었다 안 되었다)\n",
    "# C언어와 달리 파이썬은 쌍따옴표 차이 없음\n",
    "# 역슬래시\\는 줄바꿈.\n",
    "print(\"Hello, Python\\n홍길동\")"
   ]
  },
  {
   "cell_type": "code",
   "execution_count": 5,
   "id": "2950b12b",
   "metadata": {},
   "outputs": [],
   "source": [
    "# 2장의 처음 나오는 모든 게 함수/변수. 우린 잘 알아 맞추고 싶은거니까. \n",
    "# age라는 변수에 25를 할당한다. age = 25"
   ]
  },
  {
   "cell_type": "code",
   "execution_count": 11,
   "id": "2cba38e9",
   "metadata": {},
   "outputs": [
    {
     "name": "stdout",
     "output_type": "stream",
     "text": [
      "27\n",
      "252\n"
     ]
    }
   ],
   "source": [
    "age = 25 #숫자\n",
    "duration = \"2\" # 문자\n",
    "# print(age + duration) \n",
    "# 숫자 더하기 문자가 될까요? No, error 납니다. 에러는 고마운 겁니다. 에러를 본인 힘으로 해결한다면 실력이 늚\n",
    "# 그래서 어떻게 바꾸냐면 \n",
    "print(age + int(duration))\n",
    "print(str(age) + duration)\n",
    "# view 메뉴 -> toggle line Number 선택"
   ]
  },
  {
   "cell_type": "code",
   "execution_count": 14,
   "id": "824cce29",
   "metadata": {},
   "outputs": [
    {
     "ename": "SyntaxError",
     "evalue": "expected ':' (971286064.py, line 1)",
     "output_type": "error",
     "traceback": [
      "\u001b[1;36m  Cell \u001b[1;32mIn[14], line 1\u001b[1;36m\u001b[0m\n\u001b[1;33m    for i in range(100)\u001b[0m\n\u001b[1;37m                       ^\u001b[0m\n\u001b[1;31mSyntaxError\u001b[0m\u001b[1;31m:\u001b[0m expected ':'\n"
     ]
    }
   ],
   "source": [
    "for i in range(100)\n",
    "    print(i)\n",
    "# 별 (아스터리스크) 마크는 실행중이란 뜻. \n",
    "# 멈추려면 네모 누르기. \n",
    "# kernel 메뉴의 Restart 하면 메모리에 있던 게 싹 사라지면서 수행중인게 멈춰짐.\n"
   ]
  },
  {
   "cell_type": "code",
   "execution_count": 15,
   "id": "119cfd8a",
   "metadata": {},
   "outputs": [
    {
     "data": {
      "text/plain": [
       "5"
      ]
     },
     "execution_count": 15,
     "metadata": {},
     "output_type": "execute_result"
    }
   ],
   "source": [
    "print = 5\n",
    "print"
   ]
  },
  {
   "cell_type": "code",
   "execution_count": null,
   "id": "a188c2d5",
   "metadata": {},
   "outputs": [],
   "source": [
    "# 실수로 할당된 print 변수를 삭제. 그럼 print함수를 못 쓰게 됨. 방법 1:\n",
    "del print 변수를 삭제하는 방법\n",
    "# 방법 2: kernel 재시작"
   ]
  },
  {
   "cell_type": "markdown",
   "id": "339b6216",
   "metadata": {},
   "source": [
    "# 3. ESC키 누르고\n",
    "- dd : 셀삭제\n",
    "- a : 윗셀 추가\n",
    "- b : 아랫셀 추가\n",
    "- m: 마크다운 셀로 변경\n",
    "- y: 다시 코드셀로 변경\n",
    "- h: 핫키(단축키) 안내\n",
    "- o : 해당셀의 실행결과 접기/펴기"
   ]
  },
  {
   "cell_type": "code",
   "execution_count": 16,
   "id": "705f6336",
   "metadata": {},
   "outputs": [
    {
     "name": "stdout",
     "output_type": "stream",
     "text": [
      " C 드라이브의 볼륨에는 이름이 없습니다.\n",
      " 볼륨 일련 번호: A014-DCD6\n",
      "\n",
      " C:\\AI\\source\\01_python 디렉터리\n",
      "\n",
      "2025-09-12  오전 10:52    <DIR>          .\n",
      "2025-09-12  오전 10:52    <DIR>          ..\n",
      "2025-09-11  오후 05:29    <DIR>          .ipynb_checkpoints\n",
      "2025-09-12  오전 10:52             7,773 ch01_파이썬 개요 및 환경 설정.ipynb\n",
      "               1개 파일               7,773 바이트\n",
      "               3개 디렉터리  170,408,718,336 바이트 남음\n"
     ]
    }
   ],
   "source": [
    "# !주피터노트북에서 cmd 명령어 수행. dir이 터미널 연결어.\n",
    "!dir"
   ]
  },
  {
   "cell_type": "code",
   "execution_count": 17,
   "id": "ffcc528d",
   "metadata": {},
   "outputs": [],
   "source": [
    "# 매직 명령어(주피터 노트북 자체 명령어) 우부트(리눅스) 명령어를 따름. \n",
    "# dir은 내 운영체제 (windows, mac 등) 명령어"
   ]
  },
  {
   "cell_type": "code",
   "execution_count": null,
   "id": "1c394966",
   "metadata": {},
   "outputs": [],
   "source": []
  }
 ],
 "metadata": {
  "kernelspec": {
   "display_name": "Python 3 (ipykernel)",
   "language": "python",
   "name": "python3"
  },
  "language_info": {
   "codemirror_mode": {
    "name": "ipython",
    "version": 3
   },
   "file_extension": ".py",
   "mimetype": "text/x-python",
   "name": "python",
   "nbconvert_exporter": "python",
   "pygments_lexer": "ipython3",
   "version": "3.10.9"
  },
  "toc": {
   "base_numbering": 1,
   "nav_menu": {},
   "number_sections": false,
   "sideBar": true,
   "skip_h1_title": false,
   "title_cell": "Table of Contents",
   "title_sidebar": "Contents",
   "toc_cell": false,
   "toc_position": {},
   "toc_section_display": true,
   "toc_window_display": true
  }
 },
 "nbformat": 4,
 "nbformat_minor": 5
}
